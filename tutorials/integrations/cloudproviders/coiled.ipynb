{
 "cells": [
  {
   "cell_type": "markdown",
   "id": "8e680c15",
   "metadata": {},
   "source": [
    "# Coiled\n",
    "\n",
    "Fugue works perfectly well with [Coiled](https://coiled.io/). This document assumes you already have Coiled service setup and you know the basic operations on Coiled. If that is not the case, please create an account on Coiled (with free credits) and setup AWS or GCP according to their instructions.\n",
    "\n",
    "## Setup the environment\n",
    "\n",
    "### Start from the pre-built Docker image\n",
    "\n",
    "The easiest way to start trying is to run the docker environment locally:\n",
    "\n",
    "```bash\n",
    "docker run -p 8888:8888 -it fugueproject/coiled:latest jupyter lab --port=8888 --ip=0.0.0.0 --no-browser --allow-root --NotebookApp.token='' --NotebookApp.password='' --NotebookApp.allow_origin='*'\n",
    "```\n",
    "\n",
    "You should access the JupyterLab environment by `http://localhost:8888` in your browser. When you are in JupyterLab, the first thing is to log in into Coiled. You may start a terminal in the lab environment and type\n",
    "\n",
    "```bash\n",
    "coiled login\n",
    "```\n",
    "\n",
    "Or just follow the official [instruction](https://docs.coiled.io/user_guide/configuration.html) to setup your environment.\n",
    "\n",
    "Now, you can start a new notebook. The first step is to create a software environment in Coiled. For example, you can run the following code:\n",
    "\n",
    "```python\n",
    "import os\n",
    "import coiled\n",
    "\n",
    "SOFTWARE_ENV = os.environ[\"DOCKER_IMAGE\"].replace(\"/\",\"_\").replace(\":\",\"_\").replace(\".\",\"_\")\n",
    "coiled.create_software_environment(name=SOFTWARE_ENV, container=os.environ[\"DOCKER_IMAGE\"])\n",
    "```\n",
    "\n",
    "The most important thing is the container is better to be the same as what you are on, which ensures version consistency.\n",
    "\n",
    "### Start from scratch\n",
    "\n",
    "To start from scratch, you must make sure the coiled cloud provider dependency is installed:\n",
    "\n",
    "```bash\n",
    "pip install fugue-cloudprovider[coiled]\n",
    "```\n",
    "\n",
    "Besides that you also need to make sure your worker environment has matching packages and python version. **You must also install fugue on the worker side.**\n",
    "\n",
    "## Use Fugue on Coiled\n",
    "\n",
    "### If you already have a Coiled cluster\n",
    "\n",
    "You may follow the [official doc](https://docs.coiled.io/user_guide/cluster.html) or your own way to create a `Cluster` instance, assuming it is `cluster`. Then `cluster` can be used as the execution engine directly, for example:"
   ]
  },
  {
   "cell_type": "code",
   "execution_count": null,
   "id": "b5013f22",
   "metadata": {},
   "outputs": [],
   "source": [
    "from fugue_sql import fsql\n",
    "from fugue import transform\n",
    "import pandas as pd\n",
    "\n",
    "fsql(\"\"\"\n",
    "CREATE [[0]] SCHEMA a:int\n",
    "PRINT\n",
    "\"\"\").run(cluster)\n",
    "\n",
    "def my_transformer(df:pd.DataFrame) -> pd.DataFrame:\n",
    "    return df\n",
    "\n",
    "transform(\n",
    "    pd.DataFrame(dict(a=[0,1])),\n",
    "    my_transformer,\n",
    "    schema=\"*\",\n",
    "    engine=cluster\n",
    ")"
   ]
  },
  {
   "cell_type": "markdown",
   "id": "89ec3e02",
   "metadata": {},
   "source": [
    "In this case, Fugue is not responsible to start or close the Dask cluster, you must take care of it by yourself.\n",
    "\n",
    "### If you already have a Dask Client\n",
    "\n",
    "When you already instantiate a dask client, the `client` instance can be used as the execution engine. Or you can just use the string `dask` as the execution engine, it can find the active client automatically.\n",
    "\n",
    "The following two ways are both fine:"
   ]
  },
  {
   "cell_type": "code",
   "execution_count": null,
   "id": "4cfd9ed2",
   "metadata": {},
   "outputs": [],
   "source": [
    "fsql(\"\"\"\n",
    "CREATE [[0]] SCHEMA a:int\n",
    "PRINT\n",
    "\"\"\").run(client)\n",
    "\n",
    "fsql(\"\"\"\n",
    "CREATE [[0]] SCHEMA a:int\n",
    "PRINT\n",
    "\"\"\").run(\"dask\")\n",
    "\n",
    "transform(\n",
    "    pd.DataFrame(dict(a=[0,1])),\n",
    "    my_transformer,\n",
    "    schema=\"*\",\n",
    "    engine=\"dask\"\n",
    ")"
   ]
  },
  {
   "cell_type": "code",
   "execution_count": null,
   "id": "34fa38cb",
   "metadata": {},
   "outputs": [],
   "source": [
    "%%fsql dask\n",
    "CREATE [[0]] SCHEMA a:int\n",
    "PRINT"
   ]
  },
  {
   "cell_type": "markdown",
   "id": "1fd148af",
   "metadata": {},
   "source": [
    "Again, you will be responsible to start and stop the Dask client, Fugue will just use it.\n",
    "\n",
    "It is true that people may forget closing the cluster, which is a waste of money. So we provide a slightly better way to help you manage the resource."
   ]
  },
  {
   "cell_type": "code",
   "execution_count": null,
   "id": "410a8323",
   "metadata": {},
   "outputs": [],
   "source": [
    "from fugue_coiled import CoiledDaskClient\n",
    "\n",
    "with CoiledDaskClient(**coiled_cluster_kwargs) as client:\n",
    "    fsql(\"\"\"\n",
    "        CREATE [['abc']] SCHEMA a:str\n",
    "        SELECT * WHERE a LIKE 'ab%'\n",
    "        PRINT\n",
    "    \"\"\").run(client)"
   ]
  },
  {
   "cell_type": "markdown",
   "id": "633a7427",
   "metadata": {},
   "source": [
    "In this case, `CoiledDaskClient` will automatically close the Coiled cluster and the Dask client at the end of the context.\n",
    "\n",
    "### If you want to connect to a running Coiled cluster\n",
    "\n",
    "Just set the engine to `coiled:<cluster_name>`. Make sure the cluster with the name is active. Fugue will not stop this cluster after execution."
   ]
  },
  {
   "cell_type": "code",
   "execution_count": null,
   "id": "a19ab5ff",
   "metadata": {},
   "outputs": [],
   "source": [
    "fsql(\"\"\"\n",
    "CREATE [[0]] SCHEMA a:int\n",
    "PRINT\n",
    "\"\"\").run(\"coiled:my_cluster\")\n",
    "\n",
    "transform(\n",
    "    pd.DataFrame(dict(a=[0,1])),\n",
    "    my_transformer,\n",
    "    schema=\"*\",\n",
    "    engine=\"coiled:my_cluster\",\n",
    ")"
   ]
  },
  {
   "cell_type": "markdown",
   "id": "f224275f",
   "metadata": {},
   "source": [
    "### If you want an ephemeral Coiled cluster\n",
    "\n",
    "If you haven't instantiated a Coiled cluster or a Dask client, and you only want to use the computing resource at a certain step, we have a way to use coiled as an ephemeral service.\n",
    "\n",
    "You just need to use the string `coiled` as the execution engine, and provide the configs in the following format:\n",
    "\n",
    "| Config Name |  Description |\n",
    "| --- | --- |\n",
    "| token | The coiled token for authentication, it is required if you have not logged in on your machine |\n",
    "| cluster | a dictionary of parameter to instantiate [coiled.Cluster](https://docs.coiled.io/user_guide/api.html#coiled.Cluster). For example `dict(n_workers=2, software=\"my_env\")` |"
   ]
  },
  {
   "cell_type": "code",
   "execution_count": 1,
   "id": "c812a9c9",
   "metadata": {},
   "outputs": [],
   "source": [
    "CONF = dict(token=\"abc\", cluster=dict(n_workers=2, software=\"my_env\"))"
   ]
  },
  {
   "cell_type": "code",
   "execution_count": null,
   "id": "1c97f1d0",
   "metadata": {},
   "outputs": [],
   "source": [
    "fsql(\"\"\"\n",
    "CREATE [[0]] SCHEMA a:int\n",
    "PRINT\n",
    "\"\"\").run(\"coiled\", CONF)\n",
    "\n",
    "transform(\n",
    "    pd.DataFrame(dict(a=[0,1])),\n",
    "    my_transformer,\n",
    "    schema=\"*\",\n",
    "    engine=\"coiled\",\n",
    "    engine_conf=CONF\n",
    ")"
   ]
  },
  {
   "cell_type": "code",
   "execution_count": null,
   "id": "f6121961",
   "metadata": {},
   "outputs": [],
   "source": [
    "%%fsql coiled CONF\n",
    "CREATE [[0]] SCHEMA a:int\n",
    "PRINT"
   ]
  }
 ],
 "metadata": {
  "kernelspec": {
   "display_name": "Python 3.8.13 64-bit",
   "language": "python",
   "name": "python3"
  },
  "language_info": {
   "codemirror_mode": {
    "name": "ipython",
    "version": 3
   },
   "file_extension": ".py",
   "mimetype": "text/x-python",
   "name": "python",
   "nbconvert_exporter": "python",
   "pygments_lexer": "ipython3",
   "version": "3.8.13"
  },
  "vscode": {
   "interpreter": {
    "hash": "949777d72b0d2535278d3dc13498b2535136f6dfe0678499012e853ee9abcab1"
   }
  }
 },
 "nbformat": 4,
 "nbformat_minor": 5
}
