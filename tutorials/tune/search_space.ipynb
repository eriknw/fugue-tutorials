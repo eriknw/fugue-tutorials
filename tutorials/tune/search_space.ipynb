{
 "cells": [
  {
   "cell_type": "markdown",
   "metadata": {},
   "source": [
    "# Search Space"
   ]
  },
  {
   "cell_type": "markdown",
   "metadata": {},
   "source": [
    "Have questions? Chat with us on Github or Slack:\n",
    "\n",
    "[![Homepage](https://img.shields.io/badge/fugue-source--code-red?logo=github)](https://github.com/fugue-project/fugue)\n",
    "[![Slack Status](https://img.shields.io/badge/slack-join_chat-white.svg?logo=slack&style=social)](http://slack.fugue.ai)\n",
    "\n",
    "Search space is an important concept in parameter optimization. We know that grid search and random search are the common tuning methods. And they seem to be exclusive to each other. Actually if we have a well defined Space concept, both of them can be included.\n",
    "\n",
    "We don't see a satisfying space design in popular tuning frameworks, so here we polished this concept and created a space language. Plus, we make it as intuitive and minimal as possible. This search space definition will be used in conjunction with hyperparameter optimization frameworks like [optuna](https://optuna.org/) and [hyperopt](http://hyperopt.github.io/hyperopt/)."
   ]
  },
  {
   "cell_type": "markdown",
   "metadata": {},
   "source": [
    "## Core Classes\n",
    "\n",
    "The core classes include the `Space` class itself plus `Grid` and stochastic expressions. In the following example, we only import the most used ones."
   ]
  },
  {
   "cell_type": "code",
   "execution_count": 1,
   "metadata": {},
   "outputs": [],
   "source": [
    "from tune import Space, Grid, Rand, RandInt, Choice"
   ]
  },
  {
   "cell_type": "markdown",
   "metadata": {},
   "source": [
    "A `Space` can be converted to a list of independent configurations (parameter combinations) that can be executed anywhere."
   ]
  },
  {
   "cell_type": "markdown",
   "metadata": {},
   "source": [
    "## Static Space\n",
    "\n",
    "Here, we define a search space that has fixed parameters in it. This is the most basic search space. To see the configurations defined in a `Space` object, we just have to `list()` them as seen below."
   ]
  },
  {
   "cell_type": "code",
   "execution_count": 16,
   "metadata": {},
   "outputs": [
    {
     "data": {
      "text/plain": [
       "[{'a': 1, 'b': 2}]"
      ]
     },
     "execution_count": 16,
     "metadata": {},
     "output_type": "execute_result"
    }
   ],
   "source": [
    "space = Space(a=1, b=2)\n",
    "\n",
    "list(space)"
   ]
  },
  {
   "cell_type": "markdown",
   "metadata": {},
   "source": [
    "## Grid Search Space\n",
    "\n",
    "The `Grid` parameter means every value must be represented in the configurations. If there are multiple grid expressions, we take the cross product of them. In the `Space` below, `b` and `c` are cross-multiplied."
   ]
  },
  {
   "cell_type": "code",
   "execution_count": 3,
   "metadata": {},
   "outputs": [
    {
     "data": {
      "text/plain": [
       "[{'a': 1, 'b': 2, 'c': 'a'},\n",
       " {'a': 1, 'b': 2, 'c': 'b'},\n",
       " {'a': 1, 'b': 3, 'c': 'a'},\n",
       " {'a': 1, 'b': 3, 'c': 'b'}]"
      ]
     },
     "execution_count": 3,
     "metadata": {},
     "output_type": "execute_result"
    }
   ],
   "source": [
    "space = Space(a=1, b=Grid(2,3), c=Grid(\"a\",\"b\"))\n",
    "\n",
    "list(space)"
   ]
  },
  {
   "cell_type": "markdown",
   "metadata": {},
   "source": [
    "## Random Search Space\n",
    "\n",
    "Stochastic expressions such as `Rand` and `Choice` will randomly draw a value from the collection every time called, it does not guarantee the final sample space will contain all values. But you can control the total number of samples, so you can control the compute load."
   ]
  },
  {
   "cell_type": "code",
   "execution_count": 17,
   "metadata": {},
   "outputs": [
    {
     "data": {
      "text/plain": [
       "[{'a': 1, 'b': 0.771320643266746, 'c': 'b'},\n",
       " {'a': 1, 'b': 0.0207519493594015, 'c': 'a'},\n",
       " {'a': 1, 'b': 0.6336482349262754, 'c': 'b'}]"
      ]
     },
     "execution_count": 17,
     "metadata": {},
     "output_type": "execute_result"
    }
   ],
   "source": [
    "space = Space(a=1, b=Rand(0,1), c=Choice(\"a\",\"b\"))\n",
    "\n",
    "list(space.sample(3, seed=10))"
   ]
  },
  {
   "cell_type": "markdown",
   "metadata": {},
   "source": [
    "Without calling `sample()`, the random stochastic expressions do not give any values by themselves. You must be explicit on how many samples you want. Setting the seed gives reproducibility."
   ]
  },
  {
   "cell_type": "markdown",
   "metadata": {},
   "source": [
    "## Random Search Space without Sampling\n",
    "\n",
    "So far, we have seen pre-determined search spaces. Even if grid searching and random searching are different approaches, we can sample before the tuning process to create a list of configurations that can be run independently. Some tuning frameworks such as Optuna let you sample random variables during a trial, but this approach lets you perform the sampling during \"compile time\".\n",
    "\n",
    "However, there are also cases where we don't want to sample ahead of time. Take the following code. `Rand()` will be left as an expression."
   ]
  },
  {
   "cell_type": "code",
   "execution_count": 6,
   "metadata": {},
   "outputs": [
    {
     "data": {
      "text/plain": [
       "[{'a': 1, 'b': Rand(low=0, high=1, q=None, log=False, include_high=True), 'c': Choice('a', 'b')}]"
      ]
     },
     "execution_count": 6,
     "metadata": {},
     "output_type": "execute_result"
    }
   ],
   "source": [
    "space = Space(a=1, b=Rand(0,1), c=Choice(\"a\",\"b\"))\n",
    "\n",
    "list(space)"
   ]
  },
  {
   "cell_type": "markdown",
   "metadata": {},
   "source": [
    "`Space` provides this flexibility to be compatible with [Bayesian Optimization](https://arxiv.org/pdf/1807.02811.pdf), where the algorithm can decide what values to try at each iteration of the tuning process. It will utilize the historical iterations to determine the best next guess.\n",
    "\n",
    "The iterations are sequential, but it takes much less guesses than random search to achieve comparable results. The compute is much less, but the execution time can be longer because random search can be fully parallelized while Bayesian Optimization can't.\n",
    "\n",
    "In summary, all search algorithms have pros and cons, do not stick with one. So that is why we are going to combine them in the next step."
   ]
  },
  {
   "cell_type": "markdown",
   "metadata": {},
   "source": [
    "## Grid + Random Search\n",
    "\n",
    "It is common that for some parameters you want to do grid search while for others you want to do random/BO search."
   ]
  },
  {
   "cell_type": "code",
   "execution_count": 7,
   "metadata": {},
   "outputs": [
    {
     "data": {
      "text/plain": [
       "[{'a': 1, 'b': 1, 'c': Rand(low=0, high=1, q=None, log=False, include_high=True)},\n",
       " {'a': 1, 'b': 2, 'c': Rand(low=0, high=1, q=None, log=False, include_high=True)}]"
      ]
     },
     "execution_count": 7,
     "metadata": {},
     "output_type": "execute_result"
    }
   ],
   "source": [
    "space = Space(a=1, b=Grid(1,2), c=Rand(0,1))\n",
    "\n",
    "list(space)"
   ]
  },
  {
   "cell_type": "markdown",
   "metadata": {},
   "source": [
    "The above space will do two Bayesian Optimization runs. If you want to do grid search + random search then. Remember all items in `Grid` will be represented in the Space."
   ]
  },
  {
   "cell_type": "code",
   "execution_count": 8,
   "metadata": {},
   "outputs": [
    {
     "data": {
      "text/plain": [
       "[{'a': 1, 'b': 1, 'c': 0.5833217369377363},\n",
       " {'a': 1, 'b': 2, 'c': 0.5833217369377363},\n",
       " {'a': 1, 'b': 1, 'c': 0.02517172841774562},\n",
       " {'a': 1, 'b': 2, 'c': 0.02517172841774562},\n",
       " {'a': 1, 'b': 1, 'c': 0.709208009843012},\n",
       " {'a': 1, 'b': 2, 'c': 0.709208009843012}]"
      ]
     },
     "execution_count": 8,
     "metadata": {},
     "output_type": "execute_result"
    }
   ],
   "source": [
    "space = Space(a=1, b=Grid(1,2), c=Rand(0,1)).sample(3)\n",
    "\n",
    "list(space)"
   ]
  },
  {
   "cell_type": "markdown",
   "metadata": {},
   "source": [
    "The stochastic expressions are sampled, and then cross-multiplied with the `Grid` points, that is why you see 2*3=6 configurations. `Grid` guarantees every values to present, but `sample` doesn't. So our design choice here is to make sure `Grid` requirement is met, and we `sample` only on stochastic expressions."
   ]
  },
  {
   "cell_type": "markdown",
   "metadata": {},
   "source": [
    "## Space Operations\n",
    "\n",
    "In practice, it will be easy to define multiple search spaces and then take the union of them for the whole search space. The `Space` objects can be added together."
   ]
  },
  {
   "cell_type": "code",
   "execution_count": 13,
   "metadata": {},
   "outputs": [
    {
     "data": {
      "text/plain": [
       "[{'model': <class 'xgboost.sklearn.XGBRegressor'>, 'n_estimatores': 50},\n",
       " {'model': <class 'xgboost.sklearn.XGBRegressor'>, 'n_estimatores': 150},\n",
       " {'model': <class 'lightgbm.sklearn.LGBMRegressor'>, 'n_estimatores': 115},\n",
       " {'model': <class 'lightgbm.sklearn.LGBMRegressor'>, 'n_estimatores': 169},\n",
       " {'model': <class 'lightgbm.sklearn.LGBMRegressor'>, 'n_estimatores': 182},\n",
       " {'model': <class 'catboost.core.CatBoostRegressor'>, 'n_estimatores': RandInt(low=100, high=200, q=1, log=False, include_high=True)}]"
      ]
     },
     "execution_count": 13,
     "metadata": {},
     "output_type": "execute_result"
    }
   ],
   "source": [
    "from lightgbm import LGBMRegressor\n",
    "from xgboost import XGBRegressor\n",
    "from catboost import CatBoostRegressor\n",
    "\n",
    "xgb_gird = Space(model=XGBRegressor, n_estimators=Grid(50,150))  \n",
    "lgbm_random = Space(model=LGBMRegressor, n_estimators=RandInt(100,200)).sample(3) \n",
    "catboost_bo = Space(model=CatBoostRegressor, n_estimators=RandInt(100,200))  \n",
    "\n",
    "union_space = xgb_gird + lgbm_random + catboost_bo # \"+\" takes the union of spaces\n",
    "\n",
    "list(union_space)"
   ]
  },
  {
   "cell_type": "markdown",
   "metadata": {},
   "source": [
    "The `Space` objects can also be multiplied together to form a cross product. In the example below, we want to apply Bayesian Optimization to the learning rate for all of the configurations."
   ]
  },
  {
   "cell_type": "code",
   "execution_count": 14,
   "metadata": {},
   "outputs": [
    {
     "data": {
      "text/plain": [
       "[{'model': <class 'lightgbm.sklearn.LGBMRegressor'>, 'n_estimators': 100, 'boosting': 'dart', 'feature_fraction': 0.7744067519636624, 'learning_rate': Rand(low=1e-08, high=10, q=None, log=True, include_high=True)},\n",
       " {'model': <class 'lightgbm.sklearn.LGBMRegressor'>, 'n_estimators': 100, 'boosting': 'gbdt', 'feature_fraction': 0.7744067519636624, 'learning_rate': Rand(low=1e-08, high=10, q=None, log=True, include_high=True)},\n",
       " {'model': <class 'lightgbm.sklearn.LGBMRegressor'>, 'n_estimators': 100, 'boosting': 'dart', 'feature_fraction': 0.8575946831862098, 'learning_rate': Rand(low=1e-08, high=10, q=None, log=True, include_high=True)},\n",
       " {'model': <class 'lightgbm.sklearn.LGBMRegressor'>, 'n_estimators': 100, 'boosting': 'gbdt', 'feature_fraction': 0.8575946831862098, 'learning_rate': Rand(low=1e-08, high=10, q=None, log=True, include_high=True)}]"
      ]
     },
     "execution_count": 14,
     "metadata": {},
     "output_type": "execute_result"
    }
   ],
   "source": [
    "non_bo_space = Space(\n",
    "    model=LGBMRegressor, \n",
    "    n_estimators=100,\n",
    "    boosting=Grid(\"dart\", \"gbdt\"),    # Grid search\n",
    "    feature_fraction=Rand(0.5, 1)     # Random search\n",
    ").sample(2, seed=0) \n",
    "\n",
    "bo_space = Space(\n",
    "    learning_rate=Rand(1e-8, 10, log=True)  # Bayesian Optimization\n",
    ") \n",
    "\n",
    "product_space = non_bo_space * bo_space # \"*\" takes cross product of spaces\n",
    "\n",
    "list(product_space)"
   ]
  },
  {
   "cell_type": "markdown",
   "metadata": {},
   "source": [
    "## Hybrid Search Space\n",
    "\n",
    "We can put everything together in the example below where we want to tune a common parameter for multiple search spaces."
   ]
  },
  {
   "cell_type": "code",
   "execution_count": 15,
   "metadata": {},
   "outputs": [
    {
     "data": {
      "text/plain": [
       "[{'model': <class 'xgboost.sklearn.XGBRegressor'>, 'n_estimatores': RandInt(low=100, high=200, q=1, log=False, include_high=True)},\n",
       " {'model': <class 'lightgbm.sklearn.LGBMRegressor'>, 'n_estimatores': RandInt(low=100, high=200, q=1, log=False, include_high=True)},\n",
       " {'model': <class 'catboost.core.CatBoostRegressor'>, 'n_estimatores': RandInt(low=100, high=200, q=1, log=False, include_high=True)}]"
      ]
     },
     "execution_count": 15,
     "metadata": {},
     "output_type": "execute_result"
    }
   ],
   "source": [
    "# use case: any kind of hybrid search spaces\n",
    "# e.g. tuning a common parameter on 3 modeling algorithms\n",
    "\n",
    "xgb_static = Space(model=XGBRegressor)\n",
    "lgb_static = Space(model=LGBMRegressor)\n",
    "catboost_static = Space(model=CatBoostRegressor)\n",
    "\n",
    "bo_space = Space(n_estimatores=RandInt(100,200)) # Bayesian Optimization on a common parameter\n",
    "\n",
    "hybrid_space = (xgb_static + lgb_static + catboost_static) * bo_space\n",
    "\n",
    "list(hybrid_space)"
   ]
  },
  {
   "cell_type": "markdown",
   "metadata": {},
   "source": [
    "## Conclusion\n",
    "\n",
    "The building blocks of defining a search space for hyperparameter tuning are minimal, yet expressive enough to form a wide range of configurations. Notice that the search space is also decoupled from any hyparameter tuning framework. This is done intentionally so that users can focus on purely defining the space without worrying about implementation."
   ]
  }
 ],
 "metadata": {
  "kernelspec": {
   "display_name": "Python 3.8.13 ('fugue')",
   "language": "python",
   "name": "python3"
  },
  "language_info": {
   "codemirror_mode": {
    "name": "ipython",
    "version": 3
   },
   "file_extension": ".py",
   "mimetype": "text/x-python",
   "name": "python",
   "nbconvert_exporter": "python",
   "pygments_lexer": "ipython3",
   "version": "3.8.13"
  },
  "vscode": {
   "interpreter": {
    "hash": "9fcd6e71927f6b3e5f4fa4280b4e8e6a66aa8d4365bb61cf7ef4017620fc09b9"
   }
  }
 },
 "nbformat": 4,
 "nbformat_minor": 2
}
