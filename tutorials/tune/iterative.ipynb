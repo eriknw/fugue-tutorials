{
 "cells": [
  {
   "cell_type": "markdown",
   "id": "2e27f7aa",
   "metadata": {},
   "source": [
    "# Iterative Problems"
   ]
  },
  {
   "cell_type": "markdown",
   "id": "69b41e8b",
   "metadata": {},
   "source": [
    "Iterative problems refer to the objectives that can run in multiple iterations and in each of the iteration, it can report the current metrics and may also checkpoint and resume. To optimize iterative problems, the main approach to early stop the bad trials, and move compute resource to the promising ones.\n",
    "\n",
    "Deep learning models are the most typical iterative problems in parameter optimization."
   ]
  },
  {
   "cell_type": "code",
   "execution_count": 1,
   "id": "3ce106de",
   "metadata": {},
   "outputs": [
    {
     "data": {
      "application/javascript": "\nrequire([\"codemirror/lib/codemirror\"]);\nfunction set(str) {\n    var obj = {}, words = str.split(\" \");\n    for (var i = 0; i < words.length; ++i) obj[words[i]] = true;\n    return obj;\n  }\nvar fugue_keywords = \"fill hash rand even presort persist broadcast params process output outtransform rowcount concurrency prepartition zip print title save append parquet csv json single checkpoint weak strong deterministic yield connect sample seed take sub callback dataframe file\";\nCodeMirror.defineMIME(\"text/x-fsql\", {\n    name: \"sql\",\n    keywords: set(fugue_keywords + \" add after all alter analyze and anti archive array as asc at between bucket buckets by cache cascade case cast change clear cluster clustered codegen collection column columns comment commit compact compactions compute concatenate cost create cross cube current current_date current_timestamp database databases data dbproperties defined delete delimited deny desc describe dfs directories distinct distribute drop else end escaped except exchange exists explain export extended external false fields fileformat first following for format formatted from full function functions global grant group grouping having if ignore import in index indexes inner inpath inputformat insert intersect interval into is items join keys last lateral lazy left like limit lines list load local location lock locks logical macro map minus msck natural no not null nulls of on optimize option options or order out outer outputformat over overwrite partition partitioned partitions percent preceding principals purge range recordreader recordwriter recover reduce refresh regexp rename repair replace reset restrict revoke right rlike role roles rollback rollup row rows schema schemas select semi separated serde serdeproperties set sets show skewed sort sorted start statistics stored stratify struct table tables tablesample tblproperties temp temporary terminated then to touch transaction transactions transform true truncate unarchive unbounded uncache union unlock unset use using values view when where window with\"),\n    builtin: set(\"date datetime tinyint smallint int bigint boolean float double string binary timestamp decimal array map struct uniontype delimited serde sequencefile textfile rcfile inputformat outputformat\"),\n    atoms: set(\"false true null\"),\n    operatorChars: /^[*\\/+\\-%<>!=~&|^]/,\n    dateSQL: set(\"time\"),\n    support: set(\"ODBCdotTable doubleQuote zerolessFloat\")\n  });\n\nCodeMirror.modeInfo.push( {\n            name: \"Fugue SQL\",\n            mime: \"text/x-fsql\",\n            mode: \"sql\"\n          } );\n\nrequire(['notebook/js/codecell'], function(codecell) {\n    codecell.CodeCell.options_default.highlight_modes['magic_text/x-fsql'] = {'reg':[/%%fsql/]} ;\n    Jupyter.notebook.events.on('kernel_ready.Kernel', function(){\n    Jupyter.notebook.get_cells().map(function(cell){\n        if (cell.cell_type == 'code'){ cell.auto_highlight(); } }) ;\n    });\n  });\n",
      "text/plain": [
       "<IPython.core.display.Javascript object>"
      ]
     },
     "metadata": {},
     "output_type": "display_data"
    }
   ],
   "source": [
    "from fugue_notebook import setup\n",
    "setup()"
   ]
  },
  {
   "cell_type": "code",
   "execution_count": 2,
   "id": "04dde168",
   "metadata": {},
   "outputs": [],
   "source": [
    "from tune import TUNE_OBJECT_FACTORY\n",
    "TUNE_OBJECT_FACTORY.set_temp_path(\"/tmp\")"
   ]
  },
  {
   "cell_type": "markdown",
   "id": "e9f9f2af",
   "metadata": {},
   "source": [
    "## Reorganize Your Keras Model Code\n",
    "\n",
    "In this demo we are going to use Keras Model as our iterative problem example. To develop a keras model, we need to do several things such as construct the model, compile and fit. In order to use tune package for a keras problem, you need to fill out our template class KerasTrainingSpec, it doesn't really add anything to your logic, but it keeps your code organized. Plus with the template, you can still use it in common way - to train it on local machine given epochs. You will not lose anything or add any unnecessary thing by implementing this class."
   ]
  },
  {
   "cell_type": "code",
   "execution_count": 3,
   "id": "8fdb1698",
   "metadata": {},
   "outputs": [],
   "source": [
    "from tensorflow.keras import layers, models\n",
    "from tensorflow.keras.datasets import boston_housing\n",
    "\n",
    "from tune_tensorflow import KerasTrainingSpec\n",
    "\n",
    "class HousingSpec(KerasTrainingSpec):\n",
    "    def __init__(self, params, dfs):\n",
    "        assert 0 == len(dfs)\n",
    "        super().__init__(params, dfs)\n",
    "        (self.train_data, self.train_targets), (\n",
    "            self.test_data,\n",
    "            self.test_targets,\n",
    "        ) = boston_housing.load_data()\n",
    "\n",
    "    def get_model(self):\n",
    "        l1, l2 = self.params.simple_value[\"l1\"], self.params.simple_value[\"l2\"]\n",
    "        model = models.Sequential()\n",
    "        model.add(\n",
    "            layers.Dense(l1, activation=\"relu\", input_shape=(self.train_data.shape[1],))\n",
    "        )\n",
    "        model.add(layers.Dense(l2, activation=\"relu\"))\n",
    "        model.add(layers.Dense(1))\n",
    "        return model\n",
    "\n",
    "    def get_compile_params(self):\n",
    "        return dict(optimizer=\"rmsprop\", loss=\"mse\", metrics=[\"mae\"])\n",
    "\n",
    "    def get_fit_params(self):\n",
    "        return [self.train_data, self.train_targets], dict(\n",
    "            validation_data=(self.test_data, self.test_targets), shuffle=True\n",
    "        )\n",
    "\n",
    "    def get_fit_metric(self, history):\n",
    "        return float(history.history[\"val_mae\"][-1])\n",
    "\n",
    "    def generate_sort_metric(self, metric: float) -> float:\n",
    "        return metric"
   ]
  },
  {
   "cell_type": "markdown",
   "id": "6f692a94",
   "metadata": {},
   "source": [
    "Notice that you can also define how to save and load the current model in the template. The default way to save is to only save the weights. The default way to load is to call get_model and then load weights.\n",
    "\n",
    "For iterative problems, we will separate the execution to several rungs, each rung for a deep learning model will contain several epochs. Save and load is on rung level, not on epoch level. So if you want to checkpoint on each epoch, you can add your own callbacks.\n",
    "\n",
    "For deep learning models, it normally uses GPU to train, and it can be expensive, so before tuning, it's important to test with your local CPU or GPU to see if the training spec can run one rung successfully. To do that, you only need to call compute_sort_metric. It will produce the final output metric used for tuning. The metric must be smaller better. You can implement generate_sort_metric for different type of metrics. For errors they are already smaller better, but for things like precision, you should return the negative value to be smaller better.m"
   ]
  },
  {
   "cell_type": "code",
   "execution_count": 4,
   "id": "12c61183",
   "metadata": {},
   "outputs": [
    {
     "name": "stderr",
     "output_type": "stream",
     "text": [
      "2022-01-17 20:14:13.626973: I tensorflow/core/platform/cpu_feature_guard.cc:145] This TensorFlow binary is optimized with Intel(R) MKL-DNN to use the following CPU instructions in performance critical operations:  SSE4.1 SSE4.2\n",
      "To enable them in non-MKL-DNN operations, rebuild TensorFlow with the appropriate compiler flags.\n",
      "2022-01-17 20:14:13.628269: I tensorflow/core/common_runtime/process_util.cc:115] Creating new thread pool with default inter op setting: 8. Tune using inter_op_parallelism_threads for best performance.\n"
     ]
    },
    {
     "name": "stdout",
     "output_type": "stream",
     "text": [
      "Train on 404 samples, validate on 102 samples\n",
      "Epoch 1/3\n",
      "404/404 [==============================] - 1s 2ms/sample - loss: 43595.9143 - mae: 204.9338 - val_loss: 31703.6621 - val_mae: 175.8306\n",
      "Epoch 2/3\n",
      "404/404 [==============================] - 0s 106us/sample - loss: 23562.3374 - mae: 150.2194 - val_loss: 17490.9506 - val_mae: 130.1817\n",
      "Epoch 3/3\n",
      "404/404 [==============================] - 0s 114us/sample - loss: 12554.4363 - mae: 108.1499 - val_loss: 8439.3577 - val_mae: 89.3966\n"
     ]
    },
    {
     "data": {
      "text/plain": [
       "89.39659118652344"
      ]
     },
     "execution_count": 4,
     "metadata": {},
     "output_type": "execute_result"
    }
   ],
   "source": [
    "spec = HousingSpec(dict(l1=8, l2=16),dfs={})\n",
    "spec.compute_sort_metric(epochs=3)"
   ]
  },
  {
   "cell_type": "markdown",
   "id": "5dd9da36",
   "metadata": {},
   "source": [
    "## Define the simplest case and run\n",
    "\n",
    "After calling compute_sort_metric, we know it works fine for each run. So now let's define the search space and start tuning."
   ]
  },
  {
   "cell_type": "code",
   "execution_count": 5,
   "id": "c982821e",
   "metadata": {},
   "outputs": [],
   "source": [
    "import pandas as pd\n",
    "\n",
    "from tune import Space, Grid, Rand, RandInt, Choice\n",
    "\n",
    "from tune_tensorflow import (\n",
    "    keras_space,\n",
    "    suggest_keras_models_by_continuous_asha,\n",
    "    suggest_keras_models_by_hyperband,\n",
    "    suggest_keras_models_by_sha,\n",
    ")"
   ]
  },
  {
   "cell_type": "markdown",
   "id": "5efb8de9",
   "metadata": {},
   "source": [
    "If you have read the tutorial for non-iterative problems, you will find the utility functions are highly consistent. For keras_space, just like sk_space, you specify the spec class type, followed by hyperparameters. The following space will contain only two configurations."
   ]
  },
  {
   "cell_type": "code",
   "execution_count": 6,
   "id": "ed60b322",
   "metadata": {},
   "outputs": [
    {
     "name": "stderr",
     "output_type": "stream",
     "text": [
      "NativeExecutionEngine doesn't respect num_partitions ROWCOUNT\n"
     ]
    },
    {
     "name": "stdout",
     "output_type": "stream",
     "text": [
      "Train on 404 samples, validate on 102 samples\n",
      "Epoch 1/2\n",
      "404/404 [==============================] - 1s 2ms/sample - loss: 738.2188 - mae: 23.1714 - val_loss: 242.4906 - val_mae: 12.4173\n",
      "Epoch 2/2\n",
      "404/404 [==============================] - 0s 104us/sample - loss: 153.6241 - mae: 9.1089 - val_loss: 94.3623 - val_mae: 7.3219\n",
      "Train on 404 samples, validate on 102 samples\n",
      "Epoch 1/2\n",
      "404/404 [==============================] - 1s 2ms/sample - loss: 270.2734 - mae: 13.0701 - val_loss: 144.0259 - val_mae: 9.4996\n",
      "Epoch 2/2\n",
      "404/404 [==============================] - 0s 101us/sample - loss: 142.3855 - mae: 9.0876 - val_loss: 99.8096 - val_mae: 7.7550\n"
     ]
    },
    {
     "data": {
      "text/plain": [
       "[{'trial': {'trial_id': 'ac7e4624-96f7-5c75-b541-96931ce24f93', 'params': {'__space__model': '__main__.HousingSpec', 'l1': 8, 'l2': 16}, 'metadata': {}, 'keys': []}, 'metric': 7.321929931640625, 'params': {'__space__model': '__main__.HousingSpec', 'l1': 8, 'l2': 16}, 'metadata': {}, 'cost': 2.0, 'rung': 0, 'sort_metric': 7.321929931640625, 'log_time': datetime.datetime(2022, 1, 17, 20, 14, 15, 387890)}]"
      ]
     },
     "execution_count": 6,
     "metadata": {},
     "output_type": "execute_result"
    }
   ],
   "source": [
    "space = keras_space(HousingSpec, l1=Grid(8, 16), l2=16)\n",
    "\n",
    "# using successive halving to search in the space\n",
    "result = suggest_keras_models_by_sha(\n",
    "    space,\n",
    "    plan=[(2.0,1)]  # for each of the two configurations, we run 2 epochs, and select 1 as the final result based on sorted_metric.\n",
    ")\n",
    "\n",
    "result\n"
   ]
  },
  {
   "cell_type": "markdown",
   "id": "e752c7ea",
   "metadata": {},
   "source": [
    "## Successive Halving\n",
    "\n",
    "If you don't have a lot of computing resource, for example you are tuning using your own machine with just 1 GPU, then, successive halving is a great choice. In this implementation, the models will be saved to disk after each rung, and will be retrieved at the beginning of next rung if promoted."
   ]
  },
  {
   "cell_type": "code",
   "execution_count": 7,
   "id": "180fab53",
   "metadata": {},
   "outputs": [
    {
     "name": "stderr",
     "output_type": "stream",
     "text": [
      "NativeExecutionEngine doesn't respect num_partitions ROWCOUNT\n"
     ]
    },
    {
     "name": "stdout",
     "output_type": "stream",
     "text": [
      "Train on 404 samples, validate on 102 samples\n",
      "404/404 [==============================] - 1s 2ms/sample - loss: 222.8466 - mae: 11.1890 - val_loss: 112.0152 - val_mae: 8.8059\n",
      "Train on 404 samples, validate on 102 samples\n",
      "404/404 [==============================] - 1s 2ms/sample - loss: 9989.0720 - mae: 98.1604 - val_loss: 6710.0068 - val_mae: 80.8969\n",
      "Train on 404 samples, validate on 102 samples\n",
      "404/404 [==============================] - 1s 2ms/sample - loss: 1013.7837 - mae: 26.4647 - val_loss: 169.5791 - val_mae: 11.1495\n",
      "Train on 404 samples, validate on 102 samples\n",
      "404/404 [==============================] - 1s 1ms/sample - loss: 401.6506 - mae: 13.0272 - val_loss: 121.1484 - val_mae: 9.2976\n",
      "Train on 404 samples, validate on 102 samples\n",
      "404/404 [==============================] - 1s 2ms/sample - loss: 1530.6857 - mae: 31.0897 - val_loss: 236.4487 - val_mae: 12.2354\n",
      "Train on 404 samples, validate on 102 samples\n",
      "404/404 [==============================] - 1s 2ms/sample - loss: 1184.4694 - mae: 27.8627 - val_loss: 262.2075 - val_mae: 13.6149\n",
      "Train on 404 samples, validate on 102 samples\n",
      "404/404 [==============================] - 1s 2ms/sample - loss: 2307.2402 - mae: 34.4787 - val_loss: 502.5728 - val_mae: 17.8211\n",
      "Train on 404 samples, validate on 102 samples\n",
      "404/404 [==============================] - 1s 2ms/sample - loss: 396.2434 - mae: 14.3466 - val_loss: 94.6467 - val_mae: 7.4835\n",
      "Train on 404 samples, validate on 102 samples\n",
      "404/404 [==============================] - 1s 2ms/sample - loss: 10797.1170 - mae: 84.4990 - val_loss: 3823.7644 - val_mae: 46.8471\n",
      "Train on 404 samples, validate on 102 samples\n",
      "404/404 [==============================] - 1s 2ms/sample - loss: 174.3172 - mae: 8.9402 - val_loss: 67.0529 - val_mae: 6.1133\n",
      "Train on 404 samples, validate on 102 samples\n",
      "404/404 [==============================] - 1s 2ms/sample - loss: 4577.9229 - mae: 62.8989 - val_loss: 1344.7374 - val_mae: 34.7966\n",
      "Train on 404 samples, validate on 102 samples\n",
      "404/404 [==============================] - 1s 2ms/sample - loss: 6560.3082 - mae: 76.4061 - val_loss: 2116.2962 - val_mae: 44.6558\n",
      "Train on 404 samples, validate on 102 samples\n",
      "404/404 [==============================] - 1s 2ms/sample - loss: 534.7672 - mae: 16.2389 - val_loss: 148.5417 - val_mae: 9.2515\n",
      "Train on 404 samples, validate on 102 samples\n",
      "404/404 [==============================] - 1s 1ms/sample - loss: 8301.4639 - mae: 70.3609 - val_loss: 3741.6719 - val_mae: 42.5120\n",
      "Train on 404 samples, validate on 102 samples\n",
      "404/404 [==============================] - 1s 2ms/sample - loss: 6877.0804 - mae: 75.8768 - val_loss: 2219.4958 - val_mae: 42.5003\n",
      "Train on 404 samples, validate on 102 samples\n",
      "404/404 [==============================] - 1s 1ms/sample - loss: 1229.9572 - mae: 25.9055 - val_loss: 202.9586 - val_mae: 11.1453\n"
     ]
    },
    {
     "name": "stderr",
     "output_type": "stream",
     "text": [
      "NativeExecutionEngine doesn't respect num_partitions ROWCOUNT\n"
     ]
    },
    {
     "name": "stdout",
     "output_type": "stream",
     "text": [
      "Train on 404 samples, validate on 102 samples\n",
      "Epoch 2/3\n",
      "404/404 [==============================] - 1s 2ms/sample - loss: 109.0708 - mae: 7.3074 - val_loss: 79.0839 - val_mae: 6.2364\n",
      "Epoch 3/3\n",
      "404/404 [==============================] - 0s 108us/sample - loss: 72.0105 - mae: 6.0785 - val_loss: 61.2814 - val_mae: 5.7532\n",
      "Train on 404 samples, validate on 102 samples\n",
      "Epoch 2/3\n",
      "404/404 [==============================] - 1s 2ms/sample - loss: 102.5736 - mae: 7.2892 - val_loss: 79.0816 - val_mae: 6.9023\n",
      "Epoch 3/3\n",
      "404/404 [==============================] - 0s 106us/sample - loss: 79.1249 - mae: 6.3079 - val_loss: 77.1768 - val_mae: 6.7798\n",
      "Train on 404 samples, validate on 102 samples\n",
      "Epoch 2/3\n",
      "404/404 [==============================] - 1s 2ms/sample - loss: 149.6943 - mae: 9.3627 - val_loss: 92.7162 - val_mae: 7.5977\n",
      "Epoch 3/3\n",
      "404/404 [==============================] - 0s 111us/sample - loss: 106.2104 - mae: 7.7644 - val_loss: 94.0889 - val_mae: 7.2299\n",
      "Train on 404 samples, validate on 102 samples\n",
      "Epoch 2/3\n",
      "404/404 [==============================] - 1s 2ms/sample - loss: 131.2470 - mae: 8.9093 - val_loss: 175.1610 - val_mae: 10.1505\n",
      "Epoch 3/3\n",
      "404/404 [==============================] - 0s 104us/sample - loss: 105.4369 - mae: 7.9283 - val_loss: 104.0349 - val_mae: 7.8951\n",
      "Train on 404 samples, validate on 102 samples\n",
      "Epoch 2/3\n",
      "404/404 [==============================] - 1s 2ms/sample - loss: 99.8089 - mae: 7.4534 - val_loss: 150.5006 - val_mae: 10.9159\n",
      "Epoch 3/3\n",
      "404/404 [==============================] - 0s 102us/sample - loss: 67.4589 - mae: 5.9227 - val_loss: 71.2206 - val_mae: 6.6132\n",
      "Train on 404 samples, validate on 102 samples\n",
      "Epoch 2/3\n",
      "404/404 [==============================] - 1s 1ms/sample - loss: 166.9106 - mae: 9.2106 - val_loss: 87.9771 - val_mae: 7.0022\n",
      "Epoch 3/3\n",
      "404/404 [==============================] - 0s 100us/sample - loss: 107.1787 - mae: 7.7246 - val_loss: 81.7703 - val_mae: 6.9779\n",
      "Train on 404 samples, validate on 102 samples\n",
      "Epoch 2/3\n",
      "404/404 [==============================] - 1s 2ms/sample - loss: 134.8245 - mae: 9.0797 - val_loss: 87.4413 - val_mae: 6.8109\n",
      "Epoch 3/3\n",
      "404/404 [==============================] - 0s 105us/sample - loss: 84.0637 - mae: 6.5991 - val_loss: 78.7119 - val_mae: 6.9185\n",
      "Train on 404 samples, validate on 102 samples\n",
      "Epoch 2/3\n",
      "404/404 [==============================] - 1s 2ms/sample - loss: 101.6866 - mae: 7.4164 - val_loss: 65.9363 - val_mae: 6.0129\n",
      "Epoch 3/3\n",
      "404/404 [==============================] - 0s 108us/sample - loss: 67.1361 - mae: 5.8809 - val_loss: 60.6061 - val_mae: 5.9089\n"
     ]
    },
    {
     "name": "stderr",
     "output_type": "stream",
     "text": [
      "NativeExecutionEngine doesn't respect num_partitions ROWCOUNT\n"
     ]
    },
    {
     "name": "stdout",
     "output_type": "stream",
     "text": [
      "Train on 404 samples, validate on 102 samples\n",
      "Epoch 4/7\n",
      "404/404 [==============================] - 1s 2ms/sample - loss: 94.2489 - mae: 7.0036 - val_loss: 59.6185 - val_mae: 5.4919\n",
      "Epoch 5/7\n",
      "404/404 [==============================] - 0s 98us/sample - loss: 73.8441 - mae: 6.2665 - val_loss: 62.5825 - val_mae: 5.4681\n",
      "Epoch 6/7\n",
      "404/404 [==============================] - 0s 105us/sample - loss: 74.8096 - mae: 6.1939 - val_loss: 91.8281 - val_mae: 6.8802\n",
      "Epoch 7/7\n",
      "404/404 [==============================] - 0s 103us/sample - loss: 65.8624 - mae: 5.7054 - val_loss: 86.8929 - val_mae: 6.6587\n",
      "Train on 404 samples, validate on 102 samples\n",
      "Epoch 4/7\n",
      "404/404 [==============================] - 1s 2ms/sample - loss: 74.8165 - mae: 6.1639 - val_loss: 58.7839 - val_mae: 5.7485\n",
      "Epoch 5/7\n",
      "404/404 [==============================] - 0s 98us/sample - loss: 60.7689 - mae: 5.4857 - val_loss: 57.5218 - val_mae: 5.6207\n",
      "Epoch 6/7\n",
      "404/404 [==============================] - 0s 100us/sample - loss: 58.8136 - mae: 5.3922 - val_loss: 79.4196 - val_mae: 7.2567\n",
      "Epoch 7/7\n",
      "404/404 [==============================] - 0s 102us/sample - loss: 59.7249 - mae: 5.5724 - val_loss: 68.3266 - val_mae: 6.0944\n",
      "Train on 404 samples, validate on 102 samples\n",
      "Epoch 4/7\n",
      "404/404 [==============================] - 1s 2ms/sample - loss: 95.5928 - mae: 7.1267 - val_loss: 63.9240 - val_mae: 5.9148\n",
      "Epoch 5/7\n",
      "404/404 [==============================] - 0s 97us/sample - loss: 70.6773 - mae: 6.0004 - val_loss: 63.6641 - val_mae: 6.1819\n",
      "Epoch 6/7\n",
      "404/404 [==============================] - 0s 103us/sample - loss: 64.8519 - mae: 5.9047 - val_loss: 78.0059 - val_mae: 6.3313\n",
      "Epoch 7/7\n",
      "404/404 [==============================] - 0s 102us/sample - loss: 81.2107 - mae: 6.4607 - val_loss: 60.6446 - val_mae: 5.5617\n",
      "Train on 404 samples, validate on 102 samples\n",
      "Epoch 4/7\n",
      "404/404 [==============================] - 1s 2ms/sample - loss: 85.5458 - mae: 6.7063 - val_loss: 82.2353 - val_mae: 6.9334\n",
      "Epoch 5/7\n",
      "404/404 [==============================] - 0s 100us/sample - loss: 75.9433 - mae: 6.0527 - val_loss: 76.2981 - val_mae: 6.4629\n",
      "Epoch 6/7\n",
      "404/404 [==============================] - 0s 102us/sample - loss: 75.8841 - mae: 6.1496 - val_loss: 77.4582 - val_mae: 6.6357\n",
      "Epoch 7/7\n",
      "404/404 [==============================] - 0s 103us/sample - loss: 76.3783 - mae: 6.1970 - val_loss: 72.5362 - val_mae: 6.4215\n"
     ]
    },
    {
     "name": "stderr",
     "output_type": "stream",
     "text": [
      "NativeExecutionEngine doesn't respect num_partitions ROWCOUNT\n"
     ]
    },
    {
     "name": "stdout",
     "output_type": "stream",
     "text": [
      "Train on 404 samples, validate on 102 samples\n",
      "Epoch 8/15\n",
      "404/404 [==============================] - 1s 1ms/sample - loss: 95.0065 - mae: 6.5318 - val_loss: 70.3543 - val_mae: 6.8896\n",
      "Epoch 9/15\n",
      "404/404 [==============================] - 0s 99us/sample - loss: 62.5861 - mae: 5.7215 - val_loss: 59.2268 - val_mae: 5.4957\n",
      "Epoch 10/15\n",
      "404/404 [==============================] - 0s 101us/sample - loss: 72.4533 - mae: 6.0955 - val_loss: 57.9465 - val_mae: 5.7885\n",
      "Epoch 11/15\n",
      "404/404 [==============================] - 0s 102us/sample - loss: 56.1888 - mae: 5.3666 - val_loss: 82.5438 - val_mae: 6.6327\n",
      "Epoch 12/15\n",
      "404/404 [==============================] - 0s 99us/sample - loss: 65.8400 - mae: 5.7120 - val_loss: 53.4288 - val_mae: 5.2826\n",
      "Epoch 13/15\n",
      "404/404 [==============================] - 0s 103us/sample - loss: 64.2736 - mae: 5.7927 - val_loss: 53.7256 - val_mae: 5.4018\n",
      "Epoch 14/15\n",
      "404/404 [==============================] - 0s 98us/sample - loss: 64.7464 - mae: 5.8500 - val_loss: 69.4926 - val_mae: 6.8882\n",
      "Epoch 15/15\n",
      "404/404 [==============================] - 0s 98us/sample - loss: 53.1147 - mae: 5.3081 - val_loss: 62.2629 - val_mae: 6.2421\n",
      "Train on 404 samples, validate on 102 samples\n",
      "Epoch 8/15\n",
      "404/404 [==============================] - 1s 1ms/sample - loss: 62.6136 - mae: 5.8689 - val_loss: 55.7373 - val_mae: 5.5580\n",
      "Epoch 9/15\n",
      "404/404 [==============================] - 0s 104us/sample - loss: 53.0064 - mae: 5.0910 - val_loss: 54.3579 - val_mae: 5.4173\n",
      "Epoch 10/15\n",
      "404/404 [==============================] - 0s 105us/sample - loss: 55.2219 - mae: 5.3011 - val_loss: 54.2386 - val_mae: 5.4190\n",
      "Epoch 11/15\n",
      "404/404 [==============================] - 0s 101us/sample - loss: 54.9532 - mae: 5.2254 - val_loss: 61.4893 - val_mae: 6.1040\n",
      "Epoch 12/15\n",
      "404/404 [==============================] - 0s 101us/sample - loss: 53.2293 - mae: 5.0438 - val_loss: 56.2200 - val_mae: 5.4832\n",
      "Epoch 13/15\n",
      "404/404 [==============================] - 0s 98us/sample - loss: 55.3434 - mae: 5.3792 - val_loss: 54.3165 - val_mae: 5.4973\n",
      "Epoch 14/15\n",
      "404/404 [==============================] - 0s 103us/sample - loss: 47.2370 - mae: 4.7986 - val_loss: 68.3576 - val_mae: 6.1569\n",
      "Epoch 15/15\n",
      "404/404 [==============================] - 0s 100us/sample - loss: 50.2139 - mae: 5.0862 - val_loss: 53.1893 - val_mae: 5.3379\n",
      "CPU times: user 25.1 s, sys: 895 ms, total: 26 s\n",
      "Wall time: 24 s\n"
     ]
    },
    {
     "data": {
      "text/plain": [
       "[{'trial': {'trial_id': '9f135e3f-83a6-5b7f-b5f3-af6637662c49', 'params': {'__space__model': '__main__.HousingSpec', 'l1': 17, 'l2': 23}, 'metadata': {}, 'keys': []}, 'metric': 5.337876319885254, 'params': {'__space__model': '__main__.HousingSpec', 'l1': 17, 'l2': 23}, 'metadata': {}, 'cost': 8.0, 'rung': 3, 'sort_metric': 5.337876319885254, 'log_time': datetime.datetime(2022, 1, 17, 20, 14, 40, 212724)},\n",
       " {'trial': {'trial_id': '360e486c-6d27-5abc-bb8d-c9bd388e62c3', 'params': {'__space__model': '__main__.HousingSpec', 'l1': 25, 'l2': 28}, 'metadata': {}, 'keys': []}, 'metric': 6.242136001586914, 'params': {'__space__model': '__main__.HousingSpec', 'l1': 25, 'l2': 28}, 'metadata': {}, 'cost': 8.0, 'rung': 3, 'sort_metric': 6.242136001586914, 'log_time': datetime.datetime(2022, 1, 17, 20, 14, 39, 247491)}]"
      ]
     },
     "execution_count": 7,
     "metadata": {},
     "output_type": "execute_result"
    }
   ],
   "source": [
    "%%time\n",
    "space = keras_space(HousingSpec, l1=RandInt(8,32), l2=RandInt(8,32))\n",
    "\n",
    "result = suggest_keras_models_by_sha(\n",
    "    space.sample(16,0),\n",
    "    plan=[(1.0,8),(2.0,4),(4.0,2),(8.0,1)],  # a traditional successive halving plan, you can invent your own plan\n",
    "    top_n=2, # we only keep up to 2 best results\n",
    ")\n",
    "\n",
    "result"
   ]
  },
  {
   "cell_type": "markdown",
   "id": "ac136339",
   "metadata": {},
   "source": [
    "## Run with Spark\n",
    "\n",
    "If you have a Spark/Dask cluster, you can easily scale your search by providing a different execution_engine and execution_engine_conf. But if you are training a deep learning model, normally you need a GPU for each worker. How to make Spark and Dask start workers with GPU is a question about infrastructure. We can't provide a guidance here because it very environment specific.\n",
    "\n",
    "For this case we only use CPU, so we can use the local spark to utilize the 4 CPUs."
   ]
  },
  {
   "cell_type": "code",
   "execution_count": 8,
   "id": "656205d0",
   "metadata": {},
   "outputs": [
    {
     "name": "stderr",
     "output_type": "stream",
     "text": [
      "Using Spark's default log4j profile: org/apache/spark/log4j-defaults.properties\n",
      "Setting default log level to \"WARN\".\n",
      "To adjust logging level use sc.setLogLevel(newLevel). For SparkR, use setLogLevel(newLevel).\n",
      "22/01/17 20:14:52 WARN NativeCodeLoader: Unable to load native-hadoop library for your platform... using builtin-java classes where applicable\n"
     ]
    }
   ],
   "source": [
    "from pyspark import SparkContext, SparkConf\n",
    "from pyspark.sql.session import SparkSession\n",
    "from fugue_spark import SparkExecutionEngine\n",
    "\n",
    "fconf = {\n",
    "    \"fugue.rpc.server\": \"fugue.rpc.flask.FlaskRPCServer\",\n",
    "    \"fugue.rpc.flask_server.host\": \"0.0.0.0\",\n",
    "    \"fugue.rpc.flask_server.port\": \"1234\",\n",
    "    \"fugue.rpc.flask_server.timeout\": \"2 sec\",\n",
    "}\n",
    "\n",
    "conf = SparkConf().set(\"spark.ui.showConsoleProgress\", \"false\")\n",
    "sc = SparkContext(appName=\"Tuning\", conf=conf)\n",
    "spark = SparkExecutionEngine(SparkSession(sc), conf=fconf)\n"
   ]
  },
  {
   "cell_type": "code",
   "execution_count": 9,
   "id": "1714c958",
   "metadata": {},
   "outputs": [
    {
     "name": "stderr",
     "output_type": "stream",
     "text": [
      "2022-01-17 20:15:19.976085: I tensorflow/core/platform/cpu_feature_guard.cc:145] This TensorFlow binary is optimized with Intel(R) MKL-DNN to use the following CPU instructions in performance critical operations:  SSE4.1 SSE4.2\n",
      "To enable them in non-MKL-DNN operations, rebuild TensorFlow with the appropriate compiler flags.\n",
      "2022-01-17 20:15:19.975319: I tensorflow/core/platform/cpu_feature_guard.cc:145] This TensorFlow binary is optimized with Intel(R) MKL-DNN to use the following CPU instructions in performance critical operations:  SSE4.1 SSE4.2\n",
      "To enable them in non-MKL-DNN operations, rebuild TensorFlow with the appropriate compiler flags.\n",
      "2022-01-17 20:15:19.992851: I tensorflow/core/common_runtime/process_util.cc:115] Creating new thread pool with default inter op setting: 8. Tune using inter_op_parallelism_threads for best performance.\n",
      "2022-01-17 20:15:19.993326: I tensorflow/core/common_runtime/process_util.cc:115] Creating new thread pool with default inter op setting: 8. Tune using inter_op_parallelism_threads for best performance.\n",
      "Train on 404 samples, validate on 102 samples\n",
      "Train on 404 samples, validate on 102 samples\n",
      "2022-01-17 20:15:22.247629: I tensorflow/core/platform/cpu_feature_guard.cc:145] This TensorFlow binary is optimized with Intel(R) MKL-DNN to use the following CPU instructions in performance critical operations:  SSE4.1 SSE4.2\n",
      "To enable them in non-MKL-DNN operations, rebuild TensorFlow with the appropriate compiler flags.\n",
      "2022-01-17 20:15:22.252117: I tensorflow/core/platform/cpu_feature_guard.cc:145] This TensorFlow binary is optimized with Intel(R) MKL-DNN to use the following CPU instructions in performance critical operations:  SSE4.1 SSE4.2\n",
      "To enable them in non-MKL-DNN operations, rebuild TensorFlow with the appropriate compiler flags.\n",
      "2022-01-17 20:15:22.261620: I tensorflow/core/common_runtime/process_util.cc:115] Creating new thread pool with default inter op setting: 8. Tune using inter_op_parallelism_threads for best performance.\n",
      "2022-01-17 20:15:22.268666: I tensorflow/core/common_runtime/process_util.cc:115] Creating new thread pool with default inter op setting: 8. Tune using inter_op_parallelism_threads for best performance.\n",
      "2022-01-17 20:15:22.273279: I tensorflow/core/platform/cpu_feature_guard.cc:145] This TensorFlow binary is optimized with Intel(R) MKL-DNN to use the following CPU instructions in performance critical operations:  SSE4.1 SSE4.2\n",
      "To enable them in non-MKL-DNN operations, rebuild TensorFlow with the appropriate compiler flags.\n",
      "2022-01-17 20:15:22.292436: I tensorflow/core/platform/cpu_feature_guard.cc:145] This TensorFlow binary is optimized with Intel(R) MKL-DNN to use the following CPU instructions in performance critical operations:  SSE4.1 SSE4.2\n",
      "To enable them in non-MKL-DNN operations, rebuild TensorFlow with the appropriate compiler flags.\n",
      "2022-01-17 20:15:22.297228: I tensorflow/core/common_runtime/process_util.cc:115] Creating new thread pool with default inter op setting: 8. Tune using inter_op_parallelism_threads for best performance.\n",
      "2022-01-17 20:15:22.300151: I tensorflow/core/common_runtime/process_util.cc:115] Creating new thread pool with default inter op setting: 8. Tune using inter_op_parallelism_threads for best performance.\n",
      "Train on 404 samples, validate on 102 samples\n",
      "Train on 404 samples, validate on 102 samples\n",
      "Train on 404 samples, validate on 102 samples\n",
      " 32/404 [=>............................] - ETA: 27s - loss: 4676.2480 - mae: 66.7921Train on 404 samples, validate on 102 samples\n",
      "404/404 [==============================] - 3s 7ms/sample - loss: 340.1798 - mae: 13.7698 - val_loss: 94.0060 - val_mae: 7.4925\n",
      "404/404 [==============================] - 3s 7ms/sample - loss: 1552.3031 - mae: 31.9502 - val_loss: 293.8547 - val_mae: 13.4522\n",
      " 32/404 [=>............................] - ETA: 29s - loss: 167.2086 - mae: 9.71872022-01-17 20:15:25.338086: I tensorflow/core/platform/cpu_feature_guard.cc:145] This TensorFlow binary is optimized with Intel(R) MKL-DNN to use the following CPU instructions in performance critical operations:  SSE4.1 SSE4.2\n",
      "To enable them in non-MKL-DNN operations, rebuild TensorFlow with the appropriate compiler flags.\n",
      "384/404 [===========================>..] - ETA: 0s - loss: 153.2323 - mae: 8.8183 2022-01-17 20:15:25.363546: I tensorflow/core/common_runtime/process_util.cc:115] Creating new thread pool with default inter op setting: 8. Tune using inter_op_parallelism_threads for best performance.\n",
      "2022-01-17 20:15:25.370134: I tensorflow/core/platform/cpu_feature_guard.cc:145] This TensorFlow binary is optimized with Intel(R) MKL-DNN to use the following CPU instructions in performance critical operations:  SSE4.1 SSE4.2\n",
      "To enable them in non-MKL-DNN operations, rebuild TensorFlow with the appropriate compiler flags.\n",
      "192/404 [=============>................] - ETA: 2s - loss: 155.4403 - mae: 9.6472 2022-01-17 20:15:25.376542: I tensorflow/core/common_runtime/process_util.cc:115] Creating new thread pool with default inter op setting: 8. Tune using inter_op_parallelism_threads for best performance.\n",
      "404/404 [==============================] - 3s 7ms/sample - loss: 146.9411 - mae: 8.5968 - val_loss: 86.5214 - val_mae: 6.6218\n",
      "404/404 [==============================] - 3s 7ms/sample - loss: 118.1191 - mae: 8.3546 - val_loss: 84.6783 - val_mae: 6.5059\n",
      "404/404 [==============================] - 3s 7ms/sample - loss: 1079.9114 - mae: 24.8831 - val_loss: 150.3951 - val_mae: 9.8546\n",
      "Train on 404 samples, validate on 102 samples\n",
      "192/404 [=============>................] - ETA: 3s - loss: 44175.5143 - mae: 207.3689 Train on 404 samples, validate on 102 samples\n",
      "404/404 [==============================] - 4s 9ms/sample - loss: 35045.6733 - mae: 183.4657 - val_loss: 22545.5962 - val_mae: 148.9371\n",
      "Train on 404 samples, validate on 102 samples\n",
      "404/404 [==============================] - 2s 6ms/sample - loss: 417.7416 - mae: 14.7083 - val_loss: 224.5273 - val_mae: 12.1856\n",
      "320/404 [======================>.......] - ETA: 0s - loss: 833.7399 - mae: 23.8774 Train on 404 samples, validate on 102 samples\n",
      "404/404 [==============================] - 4s 10ms/sample - loss: 731.1726 - mae: 22.0633 - val_loss: 392.5416 - val_mae: 16.1036\n",
      "404/404 [==============================] - 4s 10ms/sample - loss: 500.7441 - mae: 15.3740 - val_loss: 162.9564 - val_mae: 9.7072\n",
      "404/404 [==============================] - 2s 4ms/sample - loss: 1596.1780 - mae: 33.5328 - val_loss: 712.5643 - val_mae: 23.2933\n",
      "2022-01-17 20:15:32.052858: I tensorflow/core/platform/cpu_feature_guard.cc:145] This TensorFlow binary is optimized with Intel(R) MKL-DNN to use the following CPU instructions in performance critical operations:  SSE4.1 SSE4.2\n",
      "To enable them in non-MKL-DNN operations, rebuild TensorFlow with the appropriate compiler flags.\n",
      "2022-01-17 20:15:32.059224: I tensorflow/core/platform/cpu_feature_guard.cc:145] This TensorFlow binary is optimized with Intel(R) MKL-DNN to use the following CPU instructions in performance critical operations:  SSE4.1 SSE4.2\n",
      "To enable them in non-MKL-DNN operations, rebuild TensorFlow with the appropriate compiler flags.\n",
      "2022-01-17 20:15:32.062204: I tensorflow/core/common_runtime/process_util.cc:115] Creating new thread pool with default inter op setting: 8. Tune using inter_op_parallelism_threads for best performance.\n",
      "2022-01-17 20:15:32.067582: I tensorflow/core/common_runtime/process_util.cc:115] Creating new thread pool with default inter op setting: 8. Tune using inter_op_parallelism_threads for best performance.\n",
      "Train on 404 samples, validate on 102 samples\n",
      "Train on 404 samples, validate on 102 samples\n",
      "2022-01-17 20:15:33.206317: I tensorflow/core/platform/cpu_feature_guard.cc:145] This TensorFlow binary is optimized with Intel(R) MKL-DNN to use the following CPU instructions in performance critical operations:  SSE4.1 SSE4.2\n",
      "To enable them in non-MKL-DNN operations, rebuild TensorFlow with the appropriate compiler flags.\n",
      "2022-01-17 20:15:33.217654: I tensorflow/core/common_runtime/process_util.cc:115] Creating new thread pool with default inter op setting: 8. Tune using inter_op_parallelism_threads for best performance.\n",
      "2022-01-17 20:15:33.225448: I tensorflow/core/platform/cpu_feature_guard.cc:145] This TensorFlow binary is optimized with Intel(R) MKL-DNN to use the following CPU instructions in performance critical operations:  SSE4.1 SSE4.2\n",
      "To enable them in non-MKL-DNN operations, rebuild TensorFlow with the appropriate compiler flags.\n",
      "2022-01-17 20:15:33.235287: I tensorflow/core/common_runtime/process_util.cc:115] Creating new thread pool with default inter op setting: 8. Tune using inter_op_parallelism_threads for best performance.\n"
     ]
    },
    {
     "name": "stderr",
     "output_type": "stream",
     "text": [
      "Train on 404 samples, validate on 102 samples\n",
      "Train on 404 samples, validate on 102 samples\n",
      "2022-01-17 20:15:33.702748: I tensorflow/core/platform/cpu_feature_guard.cc:145] This TensorFlow binary is optimized with Intel(R) MKL-DNN to use the following CPU instructions in performance critical operations:  SSE4.1 SSE4.2\n",
      "To enable them in non-MKL-DNN operations, rebuild TensorFlow with the appropriate compiler flags.\n",
      "2022-01-17 20:15:33.712510: I tensorflow/core/common_runtime/process_util.cc:115] Creating new thread pool with default inter op setting: 8. Tune using inter_op_parallelism_threads for best performance.\n",
      "Train on 404 samples, validate on 102 samples\n",
      "404/404 [==============================] - 2s 5ms/sample - loss: 124.2025 - mae: 8.0326 - val_loss: 89.4502 - val_mae: 7.7794\n",
      "404/404 [==============================] - 2s 5ms/sample - loss: 10704.2132 - mae: 95.8298 - val_loss: 2650.0053 - val_mae: 49.5344\n",
      " 32/404 [=>............................] - ETA: 21s - loss: 498.1444 - mae: 19.55802022-01-17 20:15:35.386821: I tensorflow/core/platform/cpu_feature_guard.cc:145] This TensorFlow binary is optimized with Intel(R) MKL-DNN to use the following CPU instructions in performance critical operations:  SSE4.1 SSE4.2\n",
      "To enable them in non-MKL-DNN operations, rebuild TensorFlow with the appropriate compiler flags.\n",
      "2022-01-17 20:15:35.392949: I tensorflow/core/common_runtime/process_util.cc:115] Creating new thread pool with default inter op setting: 8. Tune using inter_op_parallelism_threads for best performance.\n",
      "404/404 [==============================] - 2s 6ms/sample - loss: 161.3598 - mae: 9.2978 - val_loss: 77.9805 - val_mae: 6.7786\n",
      "404/404 [==============================] - 2s 6ms/sample - loss: 2646.1785 - mae: 38.8303 - val_loss: 165.9240 - val_mae: 10.1542\n",
      "Train on 404 samples, validate on 102 samples\n",
      "404/404 [==============================] - 2s 5ms/sample - loss: 2202.6670 - mae: 44.1604 - val_loss: 921.8530 - val_mae: 27.4930\n",
      "404/404 [==============================] - 1s 3ms/sample - loss: 649.4187 - mae: 18.3541 - val_loss: 105.7603 - val_mae: 8.1020\n",
      "Train on 404 samples, validate on 102 samples\n",
      "Epoch 2/3\n",
      "Train on 404 samples, validate on 102 samples\n",
      "Epoch 2/3\n",
      "Train on 404 samples, validate on 102 samples\n",
      "Epoch 2/3\n",
      "Train on 404 samples, validate on 102 samples\n",
      "Epoch 2/3\n",
      "Train on 404 samples, validate on 102 samples\n",
      "Epoch 2/3\n",
      "Train on 404 samples, validate on 102 samples\n",
      "Epoch 2/3\n",
      "Train on 404 samples, validate on 102 samples\n",
      "Epoch 2/3\n",
      "404/404 [==============================] - 2s 6ms/sample - loss: 96.3630 - mae: 7.1133 - val_loss: 86.7123 - val_mae: 6.4099\n",
      "Epoch 3/3\n",
      "404/404 [==============================] - 2s 6ms/sample - loss: 77.7906 - mae: 6.3446 - val_loss: 63.2674 - val_mae: 5.8088\n",
      "Epoch 3/3\n",
      "404/404 [==============================] - 2s 6ms/sample - loss: 120.7039 - mae: 8.5010 - val_loss: 89.4613 - val_mae: 7.0364\n",
      "Epoch 3/3\n",
      "404/404 [==============================] - 2s 6ms/sample - loss: 81.8934 - mae: 6.7243 - val_loss: 67.9964 - val_mae: 6.2066\n",
      "Epoch 3/3\n",
      "404/404 [==============================] - 3s 6ms/sample - loss: 96.6596 - mae: 7.5033 - val_loss: 109.5510 - val_mae: 8.2991\n",
      "Epoch 3/3\n",
      "404/404 [==============================] - 0s 460us/sample - loss: 63.5300 - mae: 5.7175 - val_loss: 88.4708 - val_mae: 6.7695\n",
      "404/404 [==============================] - 0s 481us/sample - loss: 76.5753 - mae: 6.2638 - val_loss: 82.1614 - val_mae: 6.3239\n",
      "404/404 [==============================] - 3s 7ms/sample - loss: 88.1857 - mae: 6.7593 - val_loss: 55.6522 - val_mae: 5.2754\n",
      "Epoch 3/3\n",
      "404/404 [==============================] - 0s 607us/sample - loss: 62.7232 - mae: 5.5297 - val_loss: 66.8899 - val_mae: 6.1538\n",
      "404/404 [==============================] - 0s 643us/sample - loss: 82.6789 - mae: 6.7664 - val_loss: 71.9773 - val_mae: 6.1288\n",
      "404/404 [==============================] - 3s 7ms/sample - loss: 105.7667 - mae: 7.7023 - val_loss: 79.4545 - val_mae: 6.6914\n",
      "Epoch 3/3\n",
      "404/404 [==============================] - 0s 555us/sample - loss: 71.9645 - mae: 6.2691 - val_loss: 92.1092 - val_mae: 7.3004\n",
      "404/404 [==============================] - 0s 483us/sample - loss: 60.0886 - mae: 5.4920 - val_loss: 92.0157 - val_mae: 6.9520\n",
      "404/404 [==============================] - 0s 498us/sample - loss: 85.2209 - mae: 6.7701 - val_loss: 78.1736 - val_mae: 6.4667\n",
      "2022-01-17 20:15:51.461786: I tensorflow/core/platform/cpu_feature_guard.cc:145] This TensorFlow binary is optimized with Intel(R) MKL-DNN to use the following CPU instructions in performance critical operations:  SSE4.1 SSE4.2\n",
      "To enable them in non-MKL-DNN operations, rebuild TensorFlow with the appropriate compiler flags.\n",
      "2022-01-17 20:15:51.467061: I tensorflow/core/common_runtime/process_util.cc:115] Creating new thread pool with default inter op setting: 8. Tune using inter_op_parallelism_threads for best performance.\n",
      "Train on 404 samples, validate on 102 samples\n",
      "Epoch 2/3\n",
      "404/404 [==============================] - 1s 3ms/sample - loss: 87.1320 - mae: 7.0783 - val_loss: 64.7436 - val_mae: 6.1645\n",
      "Epoch 3/3\n",
      "404/404 [==============================] - 0s 141us/sample - loss: 70.1167 - mae: 5.9839 - val_loss: 92.4013 - val_mae: 8.2311\n",
      "Train on 404 samples, validate on 102 samples\n",
      "Epoch 4/7\n",
      "Train on 404 samples, validate on 102 samples\n",
      "Epoch 4/7\n",
      "Train on 404 samples, validate on 102 samples\n",
      "Epoch 4/7\n",
      "404/404 [==============================] - 1s 3ms/sample - loss: 68.9716 - mae: 5.8691 - val_loss: 65.4753 - val_mae: 5.9187\n",
      "Epoch 5/7\n",
      "404/404 [==============================] - 1s 3ms/sample - loss: 87.4706 - mae: 6.9567 - val_loss: 88.7132 - val_mae: 6.8814\n",
      "Epoch 5/7\n",
      "404/404 [==============================] - 1s 3ms/sample - loss: 99.6994 - mae: 6.8227 - val_loss: 69.0279 - val_mae: 6.4795\n",
      "Epoch 5/7\n",
      "404/404 [==============================] - 0s 347us/sample - loss: 62.2751 - mae: 5.6500 - val_loss: 82.0277 - val_mae: 6.5475\n",
      "Epoch 6/7\n",
      "404/404 [==============================] - 0s 320us/sample - loss: 74.7241 - mae: 6.3082 - val_loss: 74.3547 - val_mae: 6.9067\n",
      "Epoch 6/7\n",
      "404/404 [==============================] - 0s 287us/sample - loss: 73.6867 - mae: 6.4039 - val_loss: 64.6798 - val_mae: 6.2432\n",
      "Epoch 6/7\n",
      "404/404 [==============================] - 0s 330us/sample - loss: 70.0915 - mae: 6.0928 - val_loss: 68.5346 - val_mae: 6.4581\n",
      "Epoch 7/7\n",
      "404/404 [==============================] - 0s 358us/sample - loss: 61.7143 - mae: 5.5699 - val_loss: 81.3843 - val_mae: 7.2658\n",
      "Epoch 7/7\n",
      "404/404 [==============================] - 0s 311us/sample - loss: 79.8676 - mae: 6.5244 - val_loss: 67.3844 - val_mae: 5.8493\n",
      "Epoch 7/7\n",
      "404/404 [==============================] - 0s 265us/sample - loss: 73.3285 - mae: 6.3710 - val_loss: 63.8848 - val_mae: 5.9922\n",
      "404/404 [==============================] - 0s 309us/sample - loss: 59.3020 - mae: 5.4560 - val_loss: 62.7025 - val_mae: 6.0392\n",
      "404/404 [==============================] - 0s 307us/sample - loss: 68.9727 - mae: 6.0001 - val_loss: 62.0919 - val_mae: 5.9221\n",
      "2022-01-17 20:16:03.541848: I tensorflow/core/platform/cpu_feature_guard.cc:145] This TensorFlow binary is optimized with Intel(R) MKL-DNN to use the following CPU instructions in performance critical operations:  SSE4.1 SSE4.2\n",
      "To enable them in non-MKL-DNN operations, rebuild TensorFlow with the appropriate compiler flags.\n",
      "2022-01-17 20:16:03.547408: I tensorflow/core/common_runtime/process_util.cc:115] Creating new thread pool with default inter op setting: 8. Tune using inter_op_parallelism_threads for best performance.\n",
      "Train on 404 samples, validate on 102 samples\n",
      "Epoch 4/7\n",
      "404/404 [==============================] - 1s 3ms/sample - loss: 82.0983 - mae: 6.2723 - val_loss: 69.0765 - val_mae: 6.3377\n",
      "Epoch 5/7\n",
      "404/404 [==============================] - 0s 163us/sample - loss: 71.0467 - mae: 6.0588 - val_loss: 70.3952 - val_mae: 5.9410\n",
      "Epoch 6/7\n",
      "404/404 [==============================] - 0s 135us/sample - loss: 69.3331 - mae: 5.8237 - val_loss: 84.0916 - val_mae: 7.5332\n",
      "Epoch 7/7\n",
      "404/404 [==============================] - 0s 128us/sample - loss: 64.1412 - mae: 5.5068 - val_loss: 65.6148 - val_mae: 6.3422\n",
      "Train on 404 samples, validate on 102 samples\n",
      "Epoch 8/15\n",
      "Train on 404 samples, validate on 102 samples\n",
      "Epoch 8/15\n",
      "404/404 [==============================] - 1s 2ms/sample - loss: 90.5388 - mae: 6.4925 - val_loss: 96.0720 - val_mae: 7.1895\n",
      "Epoch 9/15\n",
      "404/404 [==============================] - 1s 2ms/sample - loss: 77.9944 - mae: 6.2412 - val_loss: 63.7347 - val_mae: 5.7904\n",
      "Epoch 9/15\n"
     ]
    },
    {
     "name": "stderr",
     "output_type": "stream",
     "text": [
      "404/404 [==============================] - 0s 145us/sample - loss: 61.0867 - mae: 5.5270 - val_loss: 64.8602 - val_mae: 5.9496\n",
      "Epoch 10/15\n",
      "404/404 [==============================] - 0s 144us/sample - loss: 69.5993 - mae: 5.9489 - val_loss: 64.3345 - val_mae: 5.6493\n",
      "Epoch 10/15\n",
      "404/404 [==============================] - 0s 140us/sample - loss: 66.8111 - mae: 5.9609 - val_loss: 67.1307 - val_mae: 6.4332\n",
      "Epoch 11/15\n",
      "404/404 [==============================] - 0s 135us/sample - loss: 68.1354 - mae: 5.9266 - val_loss: 70.3789 - val_mae: 6.7164\n",
      "Epoch 11/15\n",
      "404/404 [==============================] - 0s 135us/sample - loss: 63.4828 - mae: 5.5511 - val_loss: 58.8596 - val_mae: 5.7412\n",
      "Epoch 12/15\n",
      "404/404 [==============================] - 0s 132us/sample - loss: 60.6300 - mae: 5.7319 - val_loss: 64.1241 - val_mae: 6.0083\n",
      "Epoch 12/15\n",
      "404/404 [==============================] - 0s 138us/sample - loss: 71.7196 - mae: 6.0782 - val_loss: 153.0045 - val_mae: 10.5817\n",
      "Epoch 13/15\n",
      "404/404 [==============================] - 0s 133us/sample - loss: 63.2448 - mae: 5.6428 - val_loss: 70.0385 - val_mae: 6.7826\n",
      "Epoch 13/15\n",
      "404/404 [==============================] - 0s 136us/sample - loss: 63.4726 - mae: 5.6072 - val_loss: 65.5231 - val_mae: 6.3137\n",
      "Epoch 14/15\n",
      "404/404 [==============================] - 0s 137us/sample - loss: 64.7931 - mae: 5.8393 - val_loss: 69.3780 - val_mae: 5.8077\n",
      "Epoch 14/15\n",
      "404/404 [==============================] - 0s 131us/sample - loss: 69.3167 - mae: 5.9904 - val_loss: 90.2719 - val_mae: 6.9027\n",
      "Epoch 15/15\n",
      "404/404 [==============================] - 0s 130us/sample - loss: 60.3915 - mae: 5.5286 - val_loss: 58.7957 - val_mae: 5.6263\n",
      "Epoch 15/15\n",
      "404/404 [==============================] - 0s 138us/sample - loss: 59.7843 - mae: 5.4936 - val_loss: 60.0637 - val_mae: 5.9212\n",
      "404/404 [==============================] - 0s 129us/sample - loss: 66.4969 - mae: 5.7762 - val_loss: 64.8697 - val_mae: 5.5372\n"
     ]
    },
    {
     "name": "stdout",
     "output_type": "stream",
     "text": [
      "CPU times: user 512 ms, sys: 163 ms, total: 675 ms\n",
      "Wall time: 1min 15s\n"
     ]
    },
    {
     "data": {
      "text/plain": [
       "[{'trial': {'trial_id': '9f135e3f-83a6-5b7f-b5f3-af6637662c49', 'params': {'__space__model': '__main__.HousingSpec', 'l1': 17, 'l2': 23}, 'metadata': {}, 'keys': []}, 'metric': 5.537221431732178, 'params': {'__space__model': '__main__.HousingSpec', 'l1': 17, 'l2': 23}, 'metadata': {}, 'cost': 8.0, 'rung': 3, 'sort_metric': 5.537221431732178, 'log_time': datetime.datetime(2022, 1, 17, 20, 16, 10, 702500)},\n",
       " {'trial': {'trial_id': '5679b586-e31c-5b98-84ea-2a779201a450', 'params': {'__space__model': '__main__.HousingSpec', 'l1': 24, 'l2': 27}, 'metadata': {}, 'keys': []}, 'metric': 5.921214580535889, 'params': {'__space__model': '__main__.HousingSpec', 'l1': 24, 'l2': 27}, 'metadata': {}, 'cost': 8.0, 'rung': 3, 'sort_metric': 5.921214580535889, 'log_time': datetime.datetime(2022, 1, 17, 20, 16, 10, 699282)}]"
      ]
     },
     "execution_count": 9,
     "metadata": {},
     "output_type": "execute_result"
    }
   ],
   "source": [
    "%%time\n",
    "\n",
    "space = keras_space(HousingSpec, l1=RandInt(8,32), l2=RandInt(8,32))\n",
    "\n",
    "result = suggest_keras_models_by_sha(\n",
    "    space.sample(16,0),\n",
    "    plan=[(1.0,8),(2.0,4),(4.0,2),(8.0,1)],\n",
    "    execution_engine=\"spark\",\n",
    "    top_n=2,\n",
    ")\n",
    "\n",
    "result"
   ]
  },
  {
   "cell_type": "markdown",
   "id": "eb63705f",
   "metadata": {},
   "source": [
    "## Run with realtime monitoring\n",
    "\n",
    "On notebooks, it's important and fun to track the progress in real time. In tune you can enable realtime callback with a monitor to watch the progress. There are 3 types of built in monitors for iterative problems:\n",
    "\n",
    "1. ts to monitor the up-to-date best metric collected\n",
    "2. hist to motitor the histogram of metrics collected\n",
    "3. rungs to monitor the trails performance at each rung\n",
    "\n",
    "Notice to enable realtime monitoring, you must enable callback in execution_engine_conf.\n",
    "\n",
    "In this example, we also added a warmup period. So the first rung will run more epochs before discarding bad ones."
   ]
  },
  {
   "cell_type": "code",
   "execution_count": 10,
   "id": "fb96b4fd",
   "metadata": {},
   "outputs": [],
   "source": [
    "from typing import Optional\n",
    "from tune import Monitor\n",
    "from tune_notebook import (\n",
    "    NotebookSimpleHist,\n",
    "    NotebookSimpleRungs,\n",
    "    NotebookSimpleTimeSeries,\n",
    "    PrintBest,\n",
    ")\n",
    "\n",
    "def to_monitor(obj) -> Optional[Monitor]:\n",
    "    if obj is None:\n",
    "        return None\n",
    "    if isinstance(obj, Monitor):\n",
    "        return obj\n",
    "    if isinstance(obj, str):\n",
    "        if obj == \"hist\":\n",
    "            return NotebookSimpleHist()\n",
    "        if obj == \"rungs\":\n",
    "            return NotebookSimpleRungs()\n",
    "        if obj == \"ts\":\n",
    "            return NotebookSimpleTimeSeries()\n",
    "        if obj == \"text\":\n",
    "            return PrintBest()\n",
    "    raise NotImplementedError(obj)\n",
    "\n",
    "TUNE_OBJECT_FACTORY.set_monitor_converter(to_monitor)"
   ]
  },
  {
   "cell_type": "code",
   "execution_count": 11,
   "id": "acacf28c",
   "metadata": {},
   "outputs": [
    {
     "data": {
      "image/png": "[encoded data removed]",
      "text/plain": [
       "<Figure size 432x288 with 1 Axes>"
      ]
     },
     "metadata": {
      "needs_background": "light"
     },
     "output_type": "display_data"
    },
    {
     "name": "stdout",
     "output_type": "stream",
     "text": [
      "[] 5.095827102661133 {'trial': {'trial_id': '416996d0-aff1-5def-bf8a-ab44dd136c89', 'params': {'__space__model': '__main__.HousingSpec', 'l1': 30, 'l2': 27}, 'metadata': {}, 'keys': []}, 'metric': 5.095827102661133, 'params': {'__space__model': '__main__.HousingSpec', 'l1': 30, 'l2': 27}, 'metadata': {}, 'cost': 8.0, 'rung': 3, 'sort_metric': 5.095827102661133, 'log_time': datetime.datetime(2022, 1, 17, 20, 16, 45, 616816)}\n",
      "CPU times: user 32.6 s, sys: 1.82 s, total: 34.5 s\n",
      "Wall time: 31.3 s\n"
     ]
    },
    {
     "data": {
      "text/plain": [
       "[{'trial': {'trial_id': '416996d0-aff1-5def-bf8a-ab44dd136c89', 'params': {'__space__model': '__main__.HousingSpec', 'l1': 30, 'l2': 27}, 'metadata': {}, 'keys': []}, 'metric': 5.095827102661133, 'params': {'__space__model': '__main__.HousingSpec', 'l1': 30, 'l2': 27}, 'metadata': {}, 'cost': 8.0, 'rung': 3, 'sort_metric': 5.095827102661133, 'log_time': datetime.datetime(2022, 1, 17, 20, 16, 45, 616816)},\n",
       " {'trial': {'trial_id': 'b02ea4d5-c747-5f4b-b0b0-c6f572b1869a', 'params': {'__space__model': '__main__.HousingSpec', 'l1': 27, 'l2': 11}, 'metadata': {}, 'keys': []}, 'metric': 6.027777194976807, 'params': {'__space__model': '__main__.HousingSpec', 'l1': 27, 'l2': 11}, 'metadata': {}, 'cost': 8.0, 'rung': 3, 'sort_metric': 6.027777194976807, 'log_time': datetime.datetime(2022, 1, 17, 20, 16, 46, 708740)}]"
      ]
     },
     "execution_count": 11,
     "metadata": {},
     "output_type": "execute_result"
    }
   ],
   "source": [
    "%%time\n",
    "space = keras_space(HousingSpec, l1=RandInt(8,32), l2=RandInt(8,32))\n",
    "warmup = 4\n",
    "\n",
    "result = suggest_keras_models_by_sha(\n",
    "    space.sample(16,0),\n",
    "    plan=[(warmup+1.0,8),(2.0,4),(4.0,2),(8.0,1)],\n",
    "    execution_engine_conf={\"callback\":True},\n",
    "    monitor=\"rungs\",\n",
    "    top_n=2,\n",
    ")\n",
    "\n",
    "result"
   ]
  },
  {
   "cell_type": "markdown",
   "id": "cb06c528",
   "metadata": {},
   "source": [
    "## Hyperband\n",
    "\n",
    "Traditional Hyperband is roughly a grid search of traditional Successive Halving. In our solution, we generalized Hyperband. You can provide the plan by a two dimensional array, and you can invent your own!"
   ]
  },
  {
   "cell_type": "code",
   "execution_count": 12,
   "id": "b7853aec",
   "metadata": {},
   "outputs": [
    {
     "data": {
      "image/png": "[encoded data removed]",
      "text/plain": [
       "<Figure size 432x288 with 1 Axes>"
      ]
     },
     "metadata": {
      "needs_background": "light"
     },
     "output_type": "display_data"
    },
    {
     "name": "stdout",
     "output_type": "stream",
     "text": [
      "[] 5.18780517578125 {'trial': {'trial_id': '5b9e9b06-fc51-55eb-9bd0-e9334edbe89f', 'params': {'__space__model': '__main__.HousingSpec', 'l1': 18, 'l2': 32}, 'metadata': {}, 'keys': []}, 'metric': 5.18780517578125, 'params': {'__space__model': '__main__.HousingSpec', 'l1': 18, 'l2': 32}, 'metadata': {}, 'cost': 8.0, 'rung': 3, 'sort_metric': 5.18780517578125, 'log_time': datetime.datetime(2022, 1, 17, 20, 17, 19, 6718)}\n",
      "CPU times: user 3.75 s, sys: 401 ms, total: 4.15 s\n",
      "Wall time: 1min 4s\n"
     ]
    },
    {
     "data": {
      "text/plain": [
       "[{'trial': {'trial_id': '5b9e9b06-fc51-55eb-9bd0-e9334edbe89f', 'params': {'__space__model': '__main__.HousingSpec', 'l1': 18, 'l2': 32}, 'metadata': {}, 'keys': []}, 'metric': 5.18780517578125, 'params': {'__space__model': '__main__.HousingSpec', 'l1': 18, 'l2': 32}, 'metadata': {}, 'cost': 8.0, 'rung': 3, 'sort_metric': 5.18780517578125, 'log_time': datetime.datetime(2022, 1, 17, 20, 17, 19, 6718)},\n",
       " {'trial': {'trial_id': 'aa517e33-1675-5c02-851f-6f0f5fb1993f', 'params': {'__space__model': '__main__.HousingSpec', 'l1': 32, 'l2': 10}, 'metadata': {}, 'keys': []}, 'metric': 5.464710712432861, 'params': {'__space__model': '__main__.HousingSpec', 'l1': 32, 'l2': 10}, 'metadata': {}, 'cost': 8.0, 'rung': 2, 'sort_metric': 5.464710712432861, 'log_time': datetime.datetime(2022, 1, 17, 20, 17, 33, 663062)}]"
      ]
     },
     "execution_count": 12,
     "metadata": {},
     "output_type": "execute_result"
    }
   ],
   "source": [
    "%%time\n",
    "result = suggest_keras_models_by_hyperband(\n",
    "    space.sample(16,0),\n",
    "    plans=[\n",
    "        [(1.0,8),(2.0,4),(4.0,2),(8.0,1)],\n",
    "        [(2.0,4),(4.0,2),(8.0,1)],\n",
    "        [(4.0,2),(8.0,1)],\n",
    "    ],\n",
    "    execution_engine=spark,\n",
    "    execution_engine_conf={\"callback\":True},\n",
    "    monitor=\"rungs\",\n",
    "    top_n=2,\n",
    ")\n",
    "\n",
    "result"
   ]
  },
  {
   "cell_type": "markdown",
   "id": "cc946716",
   "metadata": {},
   "source": [
    "## Asynchronous Success Halving\n",
    "\n",
    "ASHA is an improved version of SHA. The idea is simple but the impact is big. Although on this Kaggle CPU instance, we can't show the full power of ASHA, but in practice, if you have a decent amount of compute resource, ASHA will out perform SHA and Hyperband on almost every aspect: searching speed, cost, output model performance.\n",
    "\n",
    "Even on this machine, you can see the time take for ASHA is a lot less than SHA with more searches done."
   ]
  },
  {
   "cell_type": "code",
   "execution_count": null,
   "id": "6f3065b3",
   "metadata": {},
   "outputs": [
    {
     "name": "stderr",
     "output_type": "stream",
     "text": [
      "\b\b\b\b\b\b\b\b\b\b\b\b\b\b\b\b\b\b\b\b\b\b\b\b\b\b\b\b\b\b\b\b\b\b\b\b\b\b\b\b\b\b\b\b\b\b\b\b\b\b\b\b\b\b\b\b\b\b\b\b\b\b\b\b\b\b\b\b\b\b\b\b\b\b\b\b\b\b\b\b\b\r\n",
      "404/404 [==============================] - 0s 151us/sample - loss: 72.1222 - mae: 6.0137 - val_loss: 72.0536 - val_mae: 6.1482\n"
     ]
    },
    {
     "data": {
      "image/png": "[encoded data removed]",
      "text/plain": [
       "<Figure size 432x288 with 1 Axes>"
      ]
     },
     "metadata": {
      "needs_background": "light"
     },
     "output_type": "display_data"
    },
    {
     "name": "stdout",
     "output_type": "stream",
     "text": [
      "[] 5.4638991355896 {'trial': {'trial_id': 'f748e3d7-7dd1-56ed-8ef8-389c077f0f53', 'params': {'__space__model': '__main__.HousingSpec', 'l1': 16, 'l2': 14}, 'metadata': {}, 'keys': []}, 'metric': 5.4638991355896, 'params': {'__space__model': '__main__.HousingSpec', 'l1': 16, 'l2': 14}, 'metadata': {}, 'cost': 4.0, 'rung': 2, 'sort_metric': 5.4638991355896, 'log_time': datetime.datetime(2022, 1, 17, 20, 18, 1, 960888)}\n"
     ]
    },
    {
     "name": "stderr",
     "output_type": "stream",
     "text": [
      "\r\n",
      " 32/404 [=>............................] - ETA: 9s - loss: 107.7255 - mae: 7.6795\b\b\b\b\b\b\b\b\b\b\b\b\b\b\b\b\b\b\b\b\b\b\b\b\b\b\b\b\b\b\b\b\b\b\b\b\b\b\b\b\b\b\b\b\b\b\b\b\b\b\b\b\b\b\b\b\b\b\b\b\b\b\b\b\b\b\b\b\b\b\b\b\b\b\b\b\b\b\b\b\b\r\n",
      "404/404 [==============================] - 1s 3ms/sample - loss: 82.8418 - mae: 6.9814 - val_loss: 77.8392 - val_mae: 6.6640\n",
      "Epoch 10/16\n",
      "\r\n",
      " 32/404 [=>............................] - ETA: 0s - loss: 89.2248 - mae: 6.8394"
     ]
    }
   ],
   "source": [
    "%%time\n",
    "warmup = 1\n",
    "\n",
    "result = suggest_keras_models_by_continuous_asha(\n",
    "    space.sample(64,0),  # ASHA will use up to 64 samples\n",
    "    plan=[(warmup+1.0,8),(2.0,4),(4.0,2),(8.0,1)],\n",
    "    execution_engine=spark,\n",
    "    execution_engine_conf={\"callback\":True},\n",
    "    monitor=\"rungs\",\n",
    "    top_n=2,\n",
    ")\n",
    "\n",
    "result"
   ]
  },
  {
   "cell_type": "markdown",
   "id": "13d8e586",
   "metadata": {},
   "source": [
    "## Summary\n",
    "\n",
    "Successive Halving and Hyperband are great if you don't have a lot of compute resource. ASHA is great if have sufficient compute resource.\n",
    "\n",
    "We have generalized all these algorithms so you can fully customize the tuning plan by just providing arrays. And the process is scale agnostic and platform agnostice, as long as you have a distributed framework available, you can easily scale up the search while tracking the progress in real time."
   ]
  }
 ],
 "metadata": {
  "kernelspec": {
   "display_name": "Python 3.8.9 64-bit",
   "language": "python",
   "name": "python3"
  },
  "language_info": {
   "codemirror_mode": {
    "name": "ipython",
    "version": 3
   },
   "file_extension": ".py",
   "mimetype": "text/x-python",
   "name": "python",
   "nbconvert_exporter": "python",
   "pygments_lexer": "ipython3",
   "version": "3.8.9"
  },
  "vscode": {
   "interpreter": {
    "hash": "31f2aee4e71d21fbe5cf8b01ff0e069b9275f58929596ceb00d14d90e3e16cd6"
   }
  }
 },
 "nbformat": 4,
 "nbformat_minor": 5
}
