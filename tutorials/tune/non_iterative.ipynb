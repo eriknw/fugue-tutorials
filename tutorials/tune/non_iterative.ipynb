{
 "cells": [
  {
   "cell_type": "markdown",
   "id": "0dd9798c",
   "metadata": {},
   "source": [
    "# Non-Iterative Problems\n",
    "\n",
    "Non-iterative problems converge to an optimum solution as opposed to iterative problems that don't have a definite end of tuning. Scikit-learn models generally fall under this. In this section we see how to work with these types of problems using the `Space` class we learned in the last section.\n",
    "\n",
    "Have questions? Chat with us on Github or Slack:\n",
    "\n",
    "[![Homepage](https://img.shields.io/badge/fugue-source--code-red?logo=github)](https://github.com/fugue-project/fugue)\n",
    "[![Slack Status](https://img.shields.io/badge/slack-join_chat-white.svg?logo=slack&style=social)](http://slack.fugue.ai)"
   ]
  },
  {
   "cell_type": "markdown",
   "id": "84a08b1c",
   "metadata": {},
   "source": [
    "## Setup\n",
    "\n",
    "We will use the California Housing dataset and train `scikit-learn` models on it. This code snippet will show how to load the data, but in practice it should be loaded in the objective function as seen below. This will make the code more scalable when running on a distributed backend like Spark or Dask. The cluster workers will be able to directly load the data rather than have it pass through the scheduler."
   ]
  },
  {
   "cell_type": "code",
   "execution_count": 1,
   "id": "c6244f90",
   "metadata": {},
   "outputs": [
    {
     "data": {
      "text/html": [
       "<div>\n",
       "<style scoped>\n",
       "    .dataframe tbody tr th:only-of-type {\n",
       "        vertical-align: middle;\n",
       "    }\n",
       "\n",
       "    .dataframe tbody tr th {\n",
       "        vertical-align: top;\n",
       "    }\n",
       "\n",
       "    .dataframe thead th {\n",
       "        text-align: right;\n",
       "    }\n",
       "</style>\n",
       "<table border=\"1\" class=\"dataframe\">\n",
       "  <thead>\n",
       "    <tr style=\"text-align: right;\">\n",
       "      <th></th>\n",
       "      <th>MedInc</th>\n",
       "      <th>HouseAge</th>\n",
       "      <th>AveRooms</th>\n",
       "      <th>AveBedrms</th>\n",
       "      <th>Population</th>\n",
       "      <th>AveOccup</th>\n",
       "      <th>Latitude</th>\n",
       "      <th>Longitude</th>\n",
       "      <th>MedHouseVal</th>\n",
       "    </tr>\n",
       "  </thead>\n",
       "  <tbody>\n",
       "    <tr>\n",
       "      <th>0</th>\n",
       "      <td>8.3252</td>\n",
       "      <td>41.0</td>\n",
       "      <td>6.984127</td>\n",
       "      <td>1.023810</td>\n",
       "      <td>322.0</td>\n",
       "      <td>2.555556</td>\n",
       "      <td>37.88</td>\n",
       "      <td>-122.23</td>\n",
       "      <td>4.526</td>\n",
       "    </tr>\n",
       "    <tr>\n",
       "      <th>1</th>\n",
       "      <td>8.3014</td>\n",
       "      <td>21.0</td>\n",
       "      <td>6.238137</td>\n",
       "      <td>0.971880</td>\n",
       "      <td>2401.0</td>\n",
       "      <td>2.109842</td>\n",
       "      <td>37.86</td>\n",
       "      <td>-122.22</td>\n",
       "      <td>3.585</td>\n",
       "    </tr>\n",
       "    <tr>\n",
       "      <th>2</th>\n",
       "      <td>7.2574</td>\n",
       "      <td>52.0</td>\n",
       "      <td>8.288136</td>\n",
       "      <td>1.073446</td>\n",
       "      <td>496.0</td>\n",
       "      <td>2.802260</td>\n",
       "      <td>37.85</td>\n",
       "      <td>-122.24</td>\n",
       "      <td>3.521</td>\n",
       "    </tr>\n",
       "    <tr>\n",
       "      <th>3</th>\n",
       "      <td>5.6431</td>\n",
       "      <td>52.0</td>\n",
       "      <td>5.817352</td>\n",
       "      <td>1.073059</td>\n",
       "      <td>558.0</td>\n",
       "      <td>2.547945</td>\n",
       "      <td>37.85</td>\n",
       "      <td>-122.25</td>\n",
       "      <td>3.413</td>\n",
       "    </tr>\n",
       "    <tr>\n",
       "      <th>4</th>\n",
       "      <td>3.8462</td>\n",
       "      <td>52.0</td>\n",
       "      <td>6.281853</td>\n",
       "      <td>1.081081</td>\n",
       "      <td>565.0</td>\n",
       "      <td>2.181467</td>\n",
       "      <td>37.85</td>\n",
       "      <td>-122.25</td>\n",
       "      <td>3.422</td>\n",
       "    </tr>\n",
       "  </tbody>\n",
       "</table>\n",
       "</div>"
      ],
      "text/plain": [
       "   MedInc  HouseAge  AveRooms  AveBedrms  Population  AveOccup  Latitude  \\\n",
       "0  8.3252      41.0  6.984127   1.023810       322.0  2.555556     37.88   \n",
       "1  8.3014      21.0  6.238137   0.971880      2401.0  2.109842     37.86   \n",
       "2  7.2574      52.0  8.288136   1.073446       496.0  2.802260     37.85   \n",
       "3  5.6431      52.0  5.817352   1.073059       558.0  2.547945     37.85   \n",
       "4  3.8462      52.0  6.281853   1.081081       565.0  2.181467     37.85   \n",
       "\n",
       "   Longitude  MedHouseVal  \n",
       "0    -122.23        4.526  \n",
       "1    -122.22        3.585  \n",
       "2    -122.24        3.521  \n",
       "3    -122.25        3.413  \n",
       "4    -122.25        3.422  "
      ]
     },
     "execution_count": 1,
     "metadata": {},
     "output_type": "execute_result"
    }
   ],
   "source": [
    "import pandas as pd\n",
    "from sklearn.datasets import fetch_california_housing\n",
    "\n",
    "# get training data\n",
    "def get_data():\n",
    "    return fetch_california_housing(as_frame=True).frame\n",
    "\n",
    "get_data().head(5)"
   ]
  },
  {
   "cell_type": "markdown",
   "id": "013bbb93",
   "metadata": {},
   "source": [
    "## Objective Function for Non-Iterative Problems\n",
    "\n",
    "Tune requires that the objective function for non-iterative problems return either a `float` or `Tuple[float, Dict[str, Any]]`. The latter one is used to return both the metric and the metadata. It is required to have the type annotations so that Tune knows the structure of the objective function. For more involved objective functions where the properties of a trial are needed, users can use the `NonIterativeObjectiveFunc` class to define their objective function as seen later in the tutorials. This is just the preferred and most minimal approach to write out the objective function.\n",
    "\n",
    "```python\n",
    "def objective1(a, b) -> float:\n",
    "    return a**2 + b**2\n",
    "\n",
    "def objective2(a, b) -> Tuple[float, Dict[str, Any]]:\n",
    "    return a**2 + b**2, {\"metadata\":\"x\"}\n",
    "```\n"
   ]
  },
  {
   "cell_type": "markdown",
   "id": "f9817af0",
   "metadata": {},
   "source": [
    "For this example, our objective function to take in a model and the accompanying hyperparameters for the model. We then return the `mean_absolute_percentage_error` across the folds of model training with cross validation."
   ]
  },
  {
   "cell_type": "code",
   "execution_count": 67,
   "id": "37fb4828",
   "metadata": {},
   "outputs": [],
   "source": [
    "from typing import Tuple, Dict, Any\n",
    "from sklearn.model_selection import cross_val_score\n",
    "from sklearn.metrics import mean_absolute_percentage_error, make_scorer\n",
    "\n",
    "def objective(model:Any, **hp:Any) -> float:\n",
    "    model_ins = model(**hp)\n",
    "    # load data inside objective\n",
    "    data = get_data()\n",
    "    y = data[\"MedHouseVal\"]\n",
    "    x = data.drop(\"MedHouseVal\", axis=1)\n",
    "    scores = cross_val_score(model_ins, x, y, cv=3, \n",
    "                             scoring=make_scorer(mean_absolute_percentage_error))\n",
    "    return scores.mean()"
   ]
  },
  {
   "cell_type": "markdown",
   "id": "eb6352b0",
   "metadata": {},
   "source": [
    "We can test this objective function by passing in sample models already even without the Tune library. These will give us benchmark values."
   ]
  },
  {
   "cell_type": "code",
   "execution_count": 3,
   "id": "dbb5f57f",
   "metadata": {},
   "outputs": [
    {
     "name": "stdout",
     "output_type": "stream",
     "text": [
      "XGB Baseline: 0.28180971125916277\n",
      "LGBM Baseline 0.26024866093016924\n"
     ]
    }
   ],
   "source": [
    "\n",
    "from lightgbm import LGBMRegressor\n",
    "from xgboost import XGBRegressor\n",
    "\n",
    "print(\"XGB Baseline:\", objective(XGBRegressor))\n",
    "print(\"LGBM Baseline\", objective(LGBMRegressor))"
   ]
  },
  {
   "cell_type": "markdown",
   "id": "4d1cca63",
   "metadata": {},
   "source": [
    "## Constructing the Search Space\n",
    "\n",
    "In the previous section of the tutorial, we learned about the `Space` class and how to construct a search space. Below is an example how to use it for XGBoost and LightGBM. Recall that the `Space` is decoupled from any specific tuning framework."
   ]
  },
  {
   "cell_type": "code",
   "execution_count": 66,
   "id": "8578b1e4",
   "metadata": {},
   "outputs": [
    {
     "data": {
      "text/plain": [
       "[{'model': <class 'xgboost.sklearn.XGBRegressor'>, 'n_estimators': 100},\n",
       " {'model': <class 'xgboost.sklearn.XGBRegressor'>, 'n_estimators': 200},\n",
       " {'model': <class 'xgboost.sklearn.XGBRegressor'>, 'n_estimators': 300},\n",
       " {'model': <class 'lightgbm.sklearn.LGBMRegressor'>, 'n_estimators': RandInt(low=100, high=300, q=1, log=False, include_high=True)}]"
      ]
     },
     "execution_count": 66,
     "metadata": {},
     "output_type": "execute_result"
    }
   ],
   "source": [
    "\n",
    "from tune import Space, RandInt, Grid\n",
    "\n",
    "xgb_space = Space(model=XGBRegressor, n_estimators=Grid(100, 200, 300))\n",
    "lgbm_space = Space(model=LGBMRegressor, n_estimators=RandInt(100, 300))\n",
    "list(xgb_space + lgbm_space)"
   ]
  },
  {
   "cell_type": "markdown",
   "id": "95e2cd43",
   "metadata": {},
   "source": [
    "## Tuning Non-Iterative Objective Functions\n",
    "\n",
    "Now we can use the `suggest_for_non_iterative_objective()` function to put the objective function and search space together. This function has a lot more functionality, this is just the basic use case. It will return the best result among the trials.\n",
    "\n",
    "Because we have a parameter called `model` in the `Space`, this will be fed into the objective function `model` argument."
   ]
  },
  {
   "cell_type": "code",
   "execution_count": 5,
   "id": "6cdb86cc",
   "metadata": {},
   "outputs": [
    {
     "name": "stderr",
     "output_type": "stream",
     "text": [
      "NativeExecutionEngine doesn't respect num_partitions ROWCOUNT\n"
     ]
    },
    {
     "data": {
      "text/plain": [
       "[{'trial': {'trial_id': 'fcfcdf23-1a9f-56a2-8638-6a32280d8ed0', 'params': {'model': <class 'xgboost.sklearn.XGBRegressor'>, 'n_estimators': 100}, 'metadata': {}, 'keys': []}, 'metric': 0.28180971125916277, 'params': {'model': <class 'xgboost.sklearn.XGBRegressor'>, 'n_estimators': 100}, 'metadata': {}, 'cost': 1.0, 'rung': 0, 'sort_metric': 0.28180971125916277, 'log_time': datetime.datetime(2022, 9, 1, 0, 49, 1, 587778)}]"
      ]
     },
     "execution_count": 5,
     "metadata": {},
     "output_type": "execute_result"
    }
   ],
   "source": [
    "from tune import suggest_for_noniterative_objective\n",
    "\n",
    "result = suggest_for_noniterative_objective(\n",
    "    objective,\n",
    "    xgb_space,\n",
    ")\n",
    "result"
   ]
  },
  {
   "cell_type": "markdown",
   "id": "50ae06a3",
   "metadata": {},
   "source": [
    "The result contains the metrics and metadata of the best trial. "
   ]
  },
  {
   "cell_type": "markdown",
   "id": "b8f09d99",
   "metadata": {},
   "source": [
    "## Tuning with an Optimizer\n",
    "\n",
    "The example above only used the `xgb_space` because the `lgbm_space` has a stochastic expression `RandInt`. Stochastic expressions need to be paired with a `local_optimizer` such as [Optuna](https://optuna.org/) or [Hyperopt](http://hyperopt.github.io/hyperopt/) because the value of that parameter needs to be tuned. In the example below, we attach `hyperopt:5` which means that we'll use Hyperopt with a maximum of 5 iterations."
   ]
  },
  {
   "cell_type": "code",
   "execution_count": 6,
   "id": "8c36bb15",
   "metadata": {},
   "outputs": [
    {
     "name": "stderr",
     "output_type": "stream",
     "text": [
      "NativeExecutionEngine doesn't respect num_partitions ROWCOUNT\n"
     ]
    },
    {
     "data": {
      "text/plain": [
       "[{'trial': {'trial_id': 'c1c398bb-ef8f-5a95-acdf-e4b190cd1696', 'params': {'model': <class 'lightgbm.sklearn.LGBMRegressor'>, 'n_estimators': 199}, 'metadata': {}, 'keys': []}, 'metric': 0.25905132621704874, 'params': {'model': <class 'lightgbm.sklearn.LGBMRegressor'>, 'n_estimators': 199}, 'metadata': {}, 'cost': 1.0, 'rung': 0, 'sort_metric': 0.25905132621704874, 'log_time': datetime.datetime(2022, 9, 1, 0, 49, 20, 507151)}]"
      ]
     },
     "execution_count": 6,
     "metadata": {},
     "output_type": "execute_result"
    }
   ],
   "source": [
    "result = suggest_for_noniterative_objective(\n",
    "    objective,\n",
    "    xgb_space + lgbm_space,\n",
    "    local_optimizer = \"hyperopt:5\",\n",
    ")\n",
    "result"
   ]
  },
  {
   "cell_type": "markdown",
   "id": "02a645dc",
   "metadata": {},
   "source": [
    "## Returning Top N Trials\n",
    "\n",
    "By default, Tune only returns the best trial. To return more, use the `top_n` parameter."
   ]
  },
  {
   "cell_type": "code",
   "execution_count": 7,
   "id": "29af4ebf",
   "metadata": {},
   "outputs": [
    {
     "name": "stderr",
     "output_type": "stream",
     "text": [
      "NativeExecutionEngine doesn't respect num_partitions ROWCOUNT\n"
     ]
    },
    {
     "data": {
      "text/plain": [
       "[{'trial': {'trial_id': 'c1c398bb-ef8f-5a95-acdf-e4b190cd1696', 'params': {'model': <class 'lightgbm.sklearn.LGBMRegressor'>, 'n_estimators': 199}, 'metadata': {}, 'keys': []}, 'metric': 0.25905132621704874, 'params': {'model': <class 'lightgbm.sklearn.LGBMRegressor'>, 'n_estimators': 199}, 'metadata': {}, 'cost': 1.0, 'rung': 0, 'sort_metric': 0.25905132621704874, 'log_time': datetime.datetime(2022, 9, 1, 0, 49, 33, 298827)},\n",
       " {'trial': {'trial_id': 'fcfcdf23-1a9f-56a2-8638-6a32280d8ed0', 'params': {'model': <class 'xgboost.sklearn.XGBRegressor'>, 'n_estimators': 100}, 'metadata': {}, 'keys': []}, 'metric': 0.28180971125916277, 'params': {'model': <class 'xgboost.sklearn.XGBRegressor'>, 'n_estimators': 100}, 'metadata': {}, 'cost': 1.0, 'rung': 0, 'sort_metric': 0.28180971125916277, 'log_time': datetime.datetime(2022, 9, 1, 0, 49, 28, 714342)},\n",
       " {'trial': {'trial_id': 'e130a880-2ba8-522e-adc5-58bd9b4bc542', 'params': {'model': <class 'xgboost.sklearn.XGBRegressor'>, 'n_estimators': 200}, 'metadata': {}, 'keys': []}, 'metric': 0.2869639289729983, 'params': {'model': <class 'xgboost.sklearn.XGBRegressor'>, 'n_estimators': 200}, 'metadata': {}, 'cost': 1.0, 'rung': 0, 'sort_metric': 0.2869639289729983, 'log_time': datetime.datetime(2022, 9, 1, 0, 49, 32, 368481)}]"
      ]
     },
     "execution_count": 7,
     "metadata": {},
     "output_type": "execute_result"
    }
   ],
   "source": [
    "result = suggest_for_noniterative_objective(\n",
    "    objective,\n",
    "    xgb_space + lgbm_space,\n",
    "    local_optimizer = \"hyperopt:5\",\n",
    "    top_n=3\n",
    ")\n",
    "result"
   ]
  },
  {
   "cell_type": "markdown",
   "id": "027d3e10",
   "metadata": {},
   "source": [
    "## Running Distributedly\n",
    "\n",
    "Because Tune is built on top of the Fugue project, the hyperparameter tuning can be run distributedly on a cluster on all of the backends that Fugue supports (Spark, Dask, Ray). In order to do this, all we need to do is specify the `execution_engine`. In this case, we can pass in a `SparkSession`. To use Dask, we can supply a `Dask Client` to the `execution_engine`."
   ]
  },
  {
   "cell_type": "code",
   "execution_count": 14,
   "id": "1be05ec5",
   "metadata": {},
   "outputs": [],
   "source": [
    "from pyspark.sql import SparkSession\n",
    "spark = SparkSession.builder.getOrCreate()"
   ]
  },
  {
   "cell_type": "code",
   "execution_count": 13,
   "id": "d2034aae",
   "metadata": {},
   "outputs": [
    {
     "name": "stderr",
     "output_type": "stream",
     "text": [
      "                                                                                \r"
     ]
    },
    {
     "data": {
      "text/plain": [
       "[{'trial': {'trial_id': 'c1c398bb-ef8f-5a95-acdf-e4b190cd1696', 'params': {'model': <class 'lightgbm.sklearn.LGBMRegressor'>, 'n_estimators': 113}, 'metadata': {}, 'keys': []}, 'metric': 0.2587359331529883, 'params': {'model': <class 'lightgbm.sklearn.LGBMRegressor'>, 'n_estimators': 113}, 'metadata': {}, 'cost': 1.0, 'rung': 0, 'sort_metric': 0.2587359331529883, 'log_time': datetime.datetime(2022, 9, 1, 0, 52, 57, 29)}]"
      ]
     },
     "execution_count": 13,
     "metadata": {},
     "output_type": "execute_result"
    }
   ],
   "source": [
    "result = suggest_for_noniterative_objective(\n",
    "    objective,\n",
    "    xgb_space + lgbm_space,\n",
    "    local_optimizer = \"hyperopt\",\n",
    "    execution_engine=spark\n",
    ")\n",
    "result"
   ]
  },
  {
   "cell_type": "markdown",
   "id": "3e6a30f8",
   "metadata": {},
   "source": [
    "For local parallelization on Spark and Dask, gradient boosting based models try to occupy as many cores on the machine as possible so there will not be any speedup to using Spark or Dask."
   ]
  },
  {
   "cell_type": "markdown",
   "id": "196c686f",
   "metadata": {},
   "source": [
    "## Real-Time Monitoring\n",
    "\n",
    "For real time monitoring in Jupyter notebooks, a `monitor` argument can be passed. There are some built-in monitors. In the example below, we use the `\"hist\"` monitor which updates a histogram of the metric value. These are interactive plots that update inside a Jupyter notebook run. Because this documentation is already rendered, only the final image is displayed."
   ]
  },
  {
   "cell_type": "code",
   "execution_count": 19,
   "id": "51bca206",
   "metadata": {},
   "outputs": [
    {
     "data": {
      "image/png": "[encoded data removed]",
      "text/plain": [
       "<Figure size 432x288 with 1 Axes>"
      ]
     },
     "metadata": {
      "needs_background": "light"
     },
     "output_type": "display_data"
    },
    {
     "name": "stdout",
     "output_type": "stream",
     "text": [
      "[] 0.28180971125916277 {'trial': {'trial_id': 'fcfcdf23-1a9f-56a2-8638-6a32280d8ed0', 'params': {'model': <class 'xgboost.sklearn.XGBRegressor'>, 'n_estimators': 100}, 'metadata': {}, 'keys': []}, 'metric': 0.28180971125916277, 'params': {'model': <class 'xgboost.sklearn.XGBRegressor'>, 'n_estimators': 100}, 'metadata': {}, 'cost': 1.0, 'rung': 0, 'sort_metric': 0.28180971125916277, 'log_time': datetime.datetime(2022, 9, 1, 1, 4, 13, 613623)}\n"
     ]
    }
   ],
   "source": [
    "result = suggest_for_noniterative_objective(\n",
    "    objective,\n",
    "    xgb_space,\n",
    "    monitor=\"hist\"\n",
    ")"
   ]
  },
  {
   "cell_type": "markdown",
   "id": "aa385636",
   "metadata": {},
   "source": [
    "This can also be used with Spark or Dask as long as we specify an RPCClient. The RPCClient also comes from Fugue. In the example below, we use `\"ts\"` to monitor the up-to-date best metric. "
   ]
  },
  {
   "cell_type": "code",
   "execution_count": 27,
   "id": "9c7911ca",
   "metadata": {},
   "outputs": [
    {
     "data": {
      "image/png": "[encoded data removed]",
      "text/plain": [
       "<Figure size 432x288 with 1 Axes>"
      ]
     },
     "metadata": {
      "needs_background": "light"
     },
     "output_type": "display_data"
    },
    {
     "name": "stdout",
     "output_type": "stream",
     "text": [
      "[] 0.28180971125916277 {'trial': {'trial_id': 'fcfcdf23-1a9f-56a2-8638-6a32280d8ed0', 'params': {'model': <class 'xgboost.sklearn.XGBRegressor'>, 'n_estimators': 100}, 'metadata': {}, 'keys': []}, 'metric': 0.28180971125916277, 'params': {'model': <class 'xgboost.sklearn.XGBRegressor'>, 'n_estimators': 100}, 'metadata': {}, 'cost': 1.0, 'rung': 0, 'sort_metric': 0.28180971125916277, 'log_time': datetime.datetime(2022, 9, 1, 1, 12, 6, 306297)}\n"
     ]
    }
   ],
   "source": [
    "callback_conf = {\n",
    "    \"fugue.rpc.server\": \"fugue.rpc.flask.FlaskRPCServer\",\n",
    "    \"fugue.rpc.flask_server.host\": \"0.0.0.0\",\n",
    "    \"fugue.rpc.flask_server.port\": \"1234\",\n",
    "    \"fugue.rpc.flask_server.timeout\": \"2 sec\",\n",
    "}\n",
    "\n",
    "result = suggest_for_noniterative_objective(\n",
    "    objective,\n",
    "    xgb_space,\n",
    "    execution_engine=spark,\n",
    "    execution_engine_conf=callback_conf,\n",
    "    monitor=\"ts\"\n",
    ")"
   ]
  },
  {
   "cell_type": "markdown",
   "id": "0c31ad73",
   "metadata": {},
   "source": [
    "## Logging Tuning Results to Experiment Trackers\n",
    "\n",
    "It is common to pair Tune with an experiment tracker like [MLFlow](https://mlflow.org/) or [Weights and Biases](https://wandb.ai/site). These platforms will track the previous runs and persist artifacts related to model training. In the example below, we use Weights and Biases and pass a project name. Because this needs an account and API Key to run, we can't run the next cell.\n",
    "\n",
    "```python\n",
    "result = suggest_for_noniterative_objective(\n",
    "    objective,\n",
    "    xgb_space + lgbm_space,\n",
    "    local_optimizer = \"hyperopt:5\",\n",
    "    execution_engine = client,\n",
    "    logger = \"wandb:CA_housing_tuning\"\n",
    ")\n",
    "```"
   ]
  },
  {
   "cell_type": "markdown",
   "id": "0c1c780f",
   "metadata": {},
   "source": [
    "## Tuning per Partition\n",
    "\n",
    "For big data, we may want to split the data into multiple partitions and tune the search space for each individual group. We don't have any good categorical column in the California Housing dataset, so let's change the `HouseAge` column to a categorical. We will change it to `low` and `high`."
   ]
  },
  {
   "cell_type": "code",
   "execution_count": 60,
   "id": "a2ee43da",
   "metadata": {},
   "outputs": [
    {
     "data": {
      "text/html": [
       "<div>\n",
       "<style scoped>\n",
       "    .dataframe tbody tr th:only-of-type {\n",
       "        vertical-align: middle;\n",
       "    }\n",
       "\n",
       "    .dataframe tbody tr th {\n",
       "        vertical-align: top;\n",
       "    }\n",
       "\n",
       "    .dataframe thead th {\n",
       "        text-align: right;\n",
       "    }\n",
       "</style>\n",
       "<table border=\"1\" class=\"dataframe\">\n",
       "  <thead>\n",
       "    <tr style=\"text-align: right;\">\n",
       "      <th></th>\n",
       "      <th>MedInc</th>\n",
       "      <th>HouseAge</th>\n",
       "      <th>AveRooms</th>\n",
       "      <th>AveBedrms</th>\n",
       "      <th>Population</th>\n",
       "      <th>AveOccup</th>\n",
       "      <th>Latitude</th>\n",
       "      <th>Longitude</th>\n",
       "      <th>MedHouseVal</th>\n",
       "    </tr>\n",
       "  </thead>\n",
       "  <tbody>\n",
       "    <tr>\n",
       "      <th>0</th>\n",
       "      <td>8.3252</td>\n",
       "      <td>high</td>\n",
       "      <td>6.984127</td>\n",
       "      <td>1.023810</td>\n",
       "      <td>322.0</td>\n",
       "      <td>2.555556</td>\n",
       "      <td>37.88</td>\n",
       "      <td>-122.23</td>\n",
       "      <td>4.526</td>\n",
       "    </tr>\n",
       "    <tr>\n",
       "      <th>1</th>\n",
       "      <td>8.3014</td>\n",
       "      <td>low</td>\n",
       "      <td>6.238137</td>\n",
       "      <td>0.971880</td>\n",
       "      <td>2401.0</td>\n",
       "      <td>2.109842</td>\n",
       "      <td>37.86</td>\n",
       "      <td>-122.22</td>\n",
       "      <td>3.585</td>\n",
       "    </tr>\n",
       "    <tr>\n",
       "      <th>2</th>\n",
       "      <td>7.2574</td>\n",
       "      <td>high</td>\n",
       "      <td>8.288136</td>\n",
       "      <td>1.073446</td>\n",
       "      <td>496.0</td>\n",
       "      <td>2.802260</td>\n",
       "      <td>37.85</td>\n",
       "      <td>-122.24</td>\n",
       "      <td>3.521</td>\n",
       "    </tr>\n",
       "    <tr>\n",
       "      <th>3</th>\n",
       "      <td>5.6431</td>\n",
       "      <td>high</td>\n",
       "      <td>5.817352</td>\n",
       "      <td>1.073059</td>\n",
       "      <td>558.0</td>\n",
       "      <td>2.547945</td>\n",
       "      <td>37.85</td>\n",
       "      <td>-122.25</td>\n",
       "      <td>3.413</td>\n",
       "    </tr>\n",
       "    <tr>\n",
       "      <th>4</th>\n",
       "      <td>3.8462</td>\n",
       "      <td>high</td>\n",
       "      <td>6.281853</td>\n",
       "      <td>1.081081</td>\n",
       "      <td>565.0</td>\n",
       "      <td>2.181467</td>\n",
       "      <td>37.85</td>\n",
       "      <td>-122.25</td>\n",
       "      <td>3.422</td>\n",
       "    </tr>\n",
       "  </tbody>\n",
       "</table>\n",
       "</div>"
      ],
      "text/plain": [
       "   MedInc HouseAge  AveRooms  AveBedrms  Population  AveOccup  Latitude  \\\n",
       "0  8.3252     high  6.984127   1.023810       322.0  2.555556     37.88   \n",
       "1  8.3014      low  6.238137   0.971880      2401.0  2.109842     37.86   \n",
       "2  7.2574     high  8.288136   1.073446       496.0  2.802260     37.85   \n",
       "3  5.6431     high  5.817352   1.073059       558.0  2.547945     37.85   \n",
       "4  3.8462     high  6.281853   1.081081       565.0  2.181467     37.85   \n",
       "\n",
       "   Longitude  MedHouseVal  \n",
       "0    -122.23        4.526  \n",
       "1    -122.22        3.585  \n",
       "2    -122.24        3.521  \n",
       "3    -122.25        3.413  \n",
       "4    -122.25        3.422  "
      ]
     },
     "execution_count": 60,
     "metadata": {},
     "output_type": "execute_result"
    }
   ],
   "source": [
    "data = get_data()\n",
    "data = data.assign(HouseAge=pd.qcut(data[\"HouseAge\"], q = [0, 0.5, 1], labels=['low','high']))\n",
    "data.head(5)"
   ]
  },
  {
   "cell_type": "markdown",
   "id": "2d3ab64b",
   "metadata": {},
   "source": [
    "We can make this into a Spark DataFrame that will then be partitioned. Training per partition will also work on Pandas DataFrames."
   ]
  },
  {
   "cell_type": "code",
   "execution_count": 61,
   "id": "af825e36",
   "metadata": {},
   "outputs": [],
   "source": [
    "spark_data = spark.createDataFrame(data)"
   ]
  },
  {
   "cell_type": "markdown",
   "id": "84435bb4",
   "metadata": {},
   "source": [
    "The objective function needs to change a bit because we previously loaded the data inside. Instead, we will pass in the partition as a Pandas DAtaFrame."
   ]
  },
  {
   "cell_type": "code",
   "execution_count": 62,
   "id": "1225fb9b",
   "metadata": {},
   "outputs": [],
   "source": [
    "def new_objective(data: pd.DataFrame, model:Any, **hp:Any) -> float:\n",
    "    # data is already partitioned by House Age when it comes in\n",
    "    model_ins = model(**hp)\n",
    "    model_age = data.iloc[0][\"HouseAge\"]\n",
    "    y = data[\"MedHouseVal\"]\n",
    "    x = data.drop([\"MedHouseVal\", \"HouseAge\"], axis=1)\n",
    "    scores = cross_val_score(model_ins, x, y, cv=3, \n",
    "                             scoring=make_scorer(mean_absolute_percentage_error))\n",
    "    return scores.mean()"
   ]
  },
  {
   "cell_type": "markdown",
   "id": "43bafc8a",
   "metadata": {},
   "source": [
    "Below is an example of how to put everything together in this section. We use a Spark DataFrame that is partitioned into multiple Pandas DataFrame, and we tune the `Space` for each partition. In order to do this, we need to supply the DataFrame as `df` ahead of time along with the `partition_keys`. The `temp_path` is needed to store temporary files."
   ]
  },
  {
   "cell_type": "code",
   "execution_count": 65,
   "id": "46f155d7",
   "metadata": {},
   "outputs": [
    {
     "name": "stderr",
     "output_type": "stream",
     "text": [
      "                                                                                \r"
     ]
    },
    {
     "data": {
      "text/plain": [
       "[{'trial': {'trial_id': '81cd2484-994f-5704-800f-23b791d8d893', 'params': {'model': <class 'lightgbm.sklearn.LGBMRegressor'>, 'n_estimators': 124}, 'metadata': {}, 'keys': ['high']}, 'metric': 0.2713623100846554, 'params': {'model': <class 'lightgbm.sklearn.LGBMRegressor'>, 'n_estimators': 124}, 'metadata': {}, 'cost': 1.0, 'rung': 0, 'sort_metric': 0.2713623100846554, 'log_time': datetime.datetime(2022, 9, 1, 1, 38, 56, 71338)},\n",
       " {'trial': {'trial_id': '849f6270-6e81-5ba8-b2c2-ec9ba0718289', 'params': {'model': <class 'lightgbm.sklearn.LGBMRegressor'>, 'n_estimators': 127}, 'metadata': {}, 'keys': ['low']}, 'metric': 0.27277650051184715, 'params': {'model': <class 'lightgbm.sklearn.LGBMRegressor'>, 'n_estimators': 127}, 'metadata': {}, 'cost': 1.0, 'rung': 0, 'sort_metric': 0.27277650051184715, 'log_time': datetime.datetime(2022, 9, 1, 1, 39, 10, 137673)}]"
      ]
     },
     "execution_count": 65,
     "metadata": {},
     "output_type": "execute_result"
    }
   ],
   "source": [
    "result = suggest_for_noniterative_objective(\n",
    "    new_objective,\n",
    "    xgb_space + lgbm_space,\n",
    "    local_optimizer=\"hyperopt\",\n",
    "    execution_engine=spark,\n",
    "    df = spark_data,\n",
    "    df_name = \"data\",\n",
    "    temp_path=\"/tmp/\",\n",
    "    partition_keys=[\"HouseAge\"]\n",
    ")\n",
    "result"
   ]
  },
  {
   "cell_type": "markdown",
   "id": "6b96a764",
   "metadata": {},
   "source": [
    "## Conclusion\n",
    "\n",
    "In this section, we went over the features of the `suggest_for_noniterative_objective`. We showed how the `Space` and objective function can be defined without worrying about the underlying optimization framework. When ready to perform tuning, we can bring them together and specify the `local_optimizer` and `execution_engine` to run our jobs on. Because Tune is built on top of Fugue, we can run Hyperopt or Optuna on top of Spark, Dask, and Ray. \n",
    "\n",
    "We can also utilize distributed compute to tune the search space for each partition and get the best results. All we had to do was supply `partition_keys` to our Spark DataFrame and we were able to find the best model for each group of data. \n",
    "\n",
    "Tune lets users define their tuning problems in a minimal grammar, and then takes care of executing it on top of specified optimizers and engines."
   ]
  }
 ],
 "metadata": {
  "kernelspec": {
   "display_name": "Python 3.8.13 ('fugue')",
   "language": "python",
   "name": "python3"
  },
  "language_info": {
   "codemirror_mode": {
    "name": "ipython",
    "version": 3
   },
   "file_extension": ".py",
   "mimetype": "text/x-python",
   "name": "python",
   "nbconvert_exporter": "python",
   "pygments_lexer": "ipython3",
   "version": "3.8.13"
  },
  "vscode": {
   "interpreter": {
    "hash": "9fcd6e71927f6b3e5f4fa4280b4e8e6a66aa8d4365bb61cf7ef4017620fc09b9"
   }
  }
 },
 "nbformat": 4,
 "nbformat_minor": 5
}
